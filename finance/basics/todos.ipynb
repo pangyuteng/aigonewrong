{
 "cells": [
  {
   "cell_type": "code",
   "execution_count": 1,
   "metadata": {},
   "outputs": [],
   "source": [
    "_= \"\"\"\n",
    "ref https://www.reddit.com/r/algotrading/comments/e44pdd/list_of_stock_tickers_from_yahoo/\n",
    "\n",
    "https://old.nasdaq.com/screening/companies-by-name.aspx?letter=0&exchange=nasdaq&render=download\n",
    "\n",
    "AMEX\n",
    "\n",
    "https://old.nasdaq.com/screening/companies-by-name.aspx?letter=0&exchange=amex&render=download\n",
    "\n",
    "NYSE\n",
    "\n",
    "https://old.nasdaq.com/screening/companies-by-name.aspx?letter=0&exchange=nyse&render=download\n",
    "\"\"\""
   ]
  },
  {
   "cell_type": "code",
   "execution_count": null,
   "metadata": {},
   "outputs": [],
   "source": []
  },
  {
   "cell_type": "code",
   "execution_count": null,
   "metadata": {},
   "outputs": [],
   "source": [
    "# look for high vol high vol.\n",
    "# assume option would be too.\n",
    "# compute historical implied volatility?\n",
    "# suggest trading ideas.\n",
    "# depending on: vol and mean ret are relatively high or low points and their dp and ddp."
   ]
  },
  {
   "cell_type": "code",
   "execution_count": 1,
   "metadata": {},
   "outputs": [
    {
     "ename": "SyntaxError",
     "evalue": "invalid syntax (<ipython-input-1-7d5ce92cb870>, line 3)",
     "output_type": "error",
     "traceback": [
      "\u001b[0;36m  File \u001b[0;32m\"<ipython-input-1-7d5ce92cb870>\"\u001b[0;36m, line \u001b[0;32m3\u001b[0m\n\u001b[0;31m    + Now I don't really buy technical analysis, but the immediate indicator that comes to mind is \"relative strength index\", obviously when you mention TA, we are implying trying to forcast a price trend, using historical data and pattern which has been proven to not be successful, albeit many successful traders swear by TAs. Thus here we will demonstrate how well/badly our 2 mean reverting time series can forecasting future price changes compared to buy-and-hold.\u001b[0m\n\u001b[0m          ^\u001b[0m\n\u001b[0;31mSyntaxError\u001b[0m\u001b[0;31m:\u001b[0m invalid syntax\n"
     ]
    }
   ],
   "source": [
    "### Can you actually apply any of this to gain an edge when trading?\n",
    "\n",
    "+ Now I don't really buy technical analysis, but the immediate indicator that comes to mind is \"relative strength index\", obviously when you mention TA, we are implying trying to forcast a price trend, using historical data and pattern which has been proven to not be successful, albeit many successful traders swear by TAs. Thus here we will demonstrate how well/badly our 2 mean reverting time series can forecasting future price changes compared to buy-and-hold.\n",
    "\n",
    "+ Perhaps if you split the 2D distribution plot of rolling ret mean and hist volatility into 4 quandrants (show below) you can opt to deploy different option strategies accordingly.\n",
    "\n",
    "```\n",
    "lets contrain ourselves to the below per BAT's talk linked below!\n",
    "Short Strangle, Iron Condors, Credit Spread, Diagnal Spread, Ratio Spread, Broken Wing Butterfly\n",
    "```\n",
    "+ Tony Battisa, Tastytrade, How to Use Options Strategies & Key Mechanics https://www.youtube.com/watch?v=T6uA_XHunRc\n",
    "\n"
   ]
  },
  {
   "cell_type": "code",
   "execution_count": 2,
   "metadata": {},
   "outputs": [],
   "source": [
    "#\n",
    "#             ^  \n",
    "#   high vol  |  high vol\n",
    "#    low ret  |  high ret\n",
    "#  -----------|---------->\n",
    "#    low vol  |   low vol\n",
    "#    low ret  |  high ret\n",
    "#\n",
    "#  \n",
    "# high vol,  low ret -> short put (or credit spread)\n",
    "# high vol, high ret -> short call (or credit spread) \n",
    "# high vol,  mid ret -> short strangle (or iron condor)\n",
    "# mid vol,   low ret -> Ratio Spread (sell 2 otm puts, buy 1 atm put)\n",
    "# mid vol,  high ret -> Ratio Spread (sell 2 otm call, buy 1 atm call)\n",
    "#  low vol,  low ret -> Broken Wing Butter Fly \n",
    "#  low vol, high ret -> Broken Wing Butter Fly \n",
    "#  low vol,  mid ret -> Diagnal to bet on vol increase.\n",
    "#\n",
    "# product idea. deploy below as a website, earn ad revenue.\n",
    "\n",
    "\n",
    "\n",
    "# since both signals are likely mean reverting\n",
    "# and assuming realized volatility tracks implied volatilityvol_change\n",
    "# \n",
    "# by sectioning the 2 changes to zones, we can accordingly decide what strategy to deploy\n",
    "\n",
    "# if vol increase, price increase - diagonal - short front month call, long back month call\n",
    "# if vol increase, price no-change - diagonal - short call strangle, long back month?\n",
    "# if vol increase, price decrease - diagonal - short front month put, long back month put\n",
    "\n",
    "# if vol decrease, price increase - short put\n",
    "# if vol decrease, price no-change - iron condor\n",
    "# if vol decrease, price decrease - short call\n",
    "\n",
    "# https://www.youtube.com/watch?v=T6uA_XHunRc, ratios spreads or broken wing butter fly\n",
    "# if vol no-change, price increase - short put ratio spread\n",
    "# if vol no-change, price no-change - iron condor ratio spreads?\n",
    "# if vol no-change, price decrease - short call ratio spread"
   ]
  },
  {
   "cell_type": "code",
   "execution_count": 3,
   "metadata": {},
   "outputs": [],
   "source": [
    "# to simplify backtesting. we will just see if we can predict the trend\n",
    "# a win for each trade gets a +1 a loss for each trade gets a -1\n",
    "# for the same period, for buy and hold, +1 means price ret in that period is > 0."
   ]
  },
  {
   "cell_type": "code",
   "execution_count": null,
   "metadata": {},
   "outputs": [],
   "source": [
    "np.random.rand(10,10)"
   ]
  }
 ],
 "metadata": {
  "kernelspec": {
   "display_name": "Python 3",
   "language": "python",
   "name": "python3"
  },
  "language_info": {
   "codemirror_mode": {
    "name": "ipython",
    "version": 3
   },
   "file_extension": ".py",
   "mimetype": "text/x-python",
   "name": "python",
   "nbconvert_exporter": "python",
   "pygments_lexer": "ipython3",
   "version": "3.6.9"
  }
 },
 "nbformat": 4,
 "nbformat_minor": 2
}
