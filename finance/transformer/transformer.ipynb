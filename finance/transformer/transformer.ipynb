{
 "cells": [
  {
   "cell_type": "code",
   "execution_count": null,
   "metadata": {},
   "outputs": [],
   "source": [
    "# https://www.tensorflow.org/tutorials/text/transformer\n",
    "# https://arxiv.org/pdf/1706.03762.pdf"
   ]
  },
  {
   "cell_type": "markdown",
   "metadata": {
    "id": "s_qNSzzyaCbD"
   },
   "source": [
    "##### Copyright 2019 The TensorFlow Authors."
   ]
  },
  {
   "cell_type": "code",
   "execution_count": 1,
   "metadata": {
    "cellView": "form",
    "execution": {
     "iopub.execute_input": "2022-03-29T12:09:12.979308Z",
     "iopub.status.busy": "2022-03-29T12:09:12.978799Z",
     "iopub.status.idle": "2022-03-29T12:09:12.982915Z",
     "shell.execute_reply": "2022-03-29T12:09:12.982335Z"
    },
    "id": "jmjh290raIky"
   },
   "outputs": [],
   "source": [
    "#@title Licensed under the Apache License, Version 2.0 (the \"License\");\n",
    "# you may not use this file except in compliance with the License.\n",
    "# You may obtain a copy of the License at\n",
    "#\n",
    "# https://www.apache.org/licenses/LICENSE-2.0\n",
    "#\n",
    "# Unless required by applicable law or agreed to in writing, software\n",
    "# distributed under the License is distributed on an \"AS IS\" BASIS,\n",
    "# WITHOUT WARRANTIES OR CONDITIONS OF ANY KIND, either express or implied.\n",
    "# See the License for the specific language governing permissions and\n",
    "# limitations under the License."
   ]
  },
  {
   "cell_type": "markdown",
   "metadata": {
    "id": "J0Qjg6vuaHNt"
   },
   "source": [
    "# Transformer model for language understanding"
   ]
  },
  {
   "cell_type": "markdown",
   "metadata": {
    "id": "AOpGoE2T-YXS"
   },
   "source": [
    "<table class=\"tfo-notebook-buttons\" align=\"left\">\n",
    "  <td>\n",
    "    <a target=\"_blank\" href=\"https://www.tensorflow.org/text/tutorials/transformer\">\n",
    "    <img src=\"https://www.tensorflow.org/images/tf_logo_32px.png\" />\n",
    "    View on TensorFlow.org</a>\n",
    "  </td>\n",
    "  <td>\n",
    "    <a target=\"_blank\" href=\"https://colab.research.google.com/github/tensorflow/text/blob/master/docs/tutorials/transformer.ipynb\">\n",
    "    <img src=\"https://www.tensorflow.org/images/colab_logo_32px.png\" />\n",
    "    Run in Google Colab</a>\n",
    "  </td>\n",
    "  <td>\n",
    "    <a target=\"_blank\" href=\"https://github.com/tensorflow/text/blob/master/docs/tutorials/transformer.ipynb\">\n",
    "    <img src=\"https://www.tensorflow.org/images/GitHub-Mark-32px.png\" />\n",
    "    View source on GitHub</a>\n",
    "  </td>\n",
    "  <td>\n",
    "    <a href=\"https://storage.googleapis.com/tensorflow_docs/text/docs/tutorials/transformer.ipynb\"><img src=\"https://www.tensorflow.org/images/download_logo_32px.png\" />Download notebook</a>\n",
    "  </td>\n",
    "</table>"
   ]
  },
  {
   "cell_type": "markdown",
   "metadata": {
    "id": "M-f8TnGpE_ex"
   },
   "source": [
    "This tutorial trains a <a href=\"https://arxiv.org/abs/1706.03762\" class=\"external\">transformer model</a> to translate a [Portuguese to English dataset](https://www.tensorflow.org/datasets/catalog/ted_hrlr_translate#ted_hrlr_translatept_to_en).\n",
    "\n",
    "This is an advanced example that assumes knowledge of [text generation](https://www.tensorflow.org/text/tutorials/text_generation) and [attention](https://www.tensorflow.org/text/tutorials/nmt_with_attention).\n",
    "\n",
    "This tutorial demonstrates how to build a transformer model and most of its components *from scratch* using low-level TensorFlow and Keras functionalities. Some of this could be minimized if you took advantage of built-in APIs like `tf.keras.layers.MultiHeadAttention`.\n",
    "\n",
    "The core idea behind a transformer model is *self-attention*—the ability to attend to different positions of the input sequence to compute a representation of that sequence. Transformer creates stacks of self-attention layers and is explained below in the sections *Scaled dot product attention* and *Multi-head attention*.\n",
    "\n",
    "A transformer model handles variable-sized input using stacks of self-attention layers instead of [RNNs](https://www.tensorflow.org/text/tutorials/text_classification_rnn) or [CNNs](https://www.tensorflow.org/tutorials/images/cnn). This general architecture has a number of advantages:\n",
    "\n",
    "* It makes no assumptions about the temporal/spatial relationships across the data. This is ideal for processing a set of objects (for example, [StarCraft units](https://deepmind.com/blog/alphastar-mastering-real-time-strategy-game-starcraft-ii/#block-8)).\n",
    "* Layer outputs can be calculated in parallel, instead of a series like an RNN.\n",
    "* Distant items can affect each other's output without passing through many RNN-steps, or convolution layers (see [Scene Memory Transformer](https://arxiv.org/pdf/1903.03878.pdf) for example).\n",
    "* It can learn long-range dependencies. This is a challenge in many sequence tasks.\n",
    "\n",
    "The downsides of this architecture are:\n",
    "\n",
    "* For a time-series, the output for a time-step is calculated from the *entire history* instead of only the inputs and current hidden-state. This _may_ be less efficient.   \n",
    "* If the input *does* have a  temporal/spatial relationship, like text, some positional encoding must be added or the model will effectively see a bag of words. \n",
    "\n",
    "After training the model in this notebook, you will be able to input a Portuguese sentence and return the English translation.\n",
    "\n",
    "<img src=\"https://www.tensorflow.org/images/tutorials/transformer/attention_map_portuguese.png\" width=\"800\" alt=\"Attention heatmap\">"
   ]
  },
  {
   "cell_type": "markdown",
   "metadata": {
    "id": "swymtxpl7W7w"
   },
   "source": [
    "## Setup"
   ]
  },
  {
   "cell_type": "code",
   "execution_count": 1,
   "metadata": {
    "execution": {
     "iopub.execute_input": "2022-03-29T12:09:12.986231Z",
     "iopub.status.busy": "2022-03-29T12:09:12.986048Z",
     "iopub.status.idle": "2022-03-29T12:09:16.431076Z",
     "shell.execute_reply": "2022-03-29T12:09:16.430409Z"
    },
    "id": "XFG0NDRu5mYQ"
   },
   "outputs": [
    {
     "name": "stdout",
     "output_type": "stream",
     "text": [
      "Requirement already satisfied: tensorflow_datasets in /usr/local/lib/python3.8/dist-packages (4.5.2)\n",
      "Requirement already satisfied: numpy in /usr/local/lib/python3.8/dist-packages (from tensorflow_datasets) (1.22.1)\n",
      "Requirement already satisfied: termcolor in /usr/local/lib/python3.8/dist-packages (from tensorflow_datasets) (1.1.0)\n",
      "Requirement already satisfied: requests>=2.19.0 in /usr/local/lib/python3.8/dist-packages (from tensorflow_datasets) (2.27.1)\n",
      "Requirement already satisfied: tqdm in /usr/local/lib/python3.8/dist-packages (from tensorflow_datasets) (4.63.1)\n",
      "Requirement already satisfied: protobuf>=3.12.2 in /usr/local/lib/python3.8/dist-packages (from tensorflow_datasets) (3.19.4)\n",
      "Requirement already satisfied: absl-py in /usr/local/lib/python3.8/dist-packages (from tensorflow_datasets) (1.0.0)\n",
      "Requirement already satisfied: importlib-resources in /usr/local/lib/python3.8/dist-packages (from tensorflow_datasets) (5.4.0)\n",
      "Requirement already satisfied: tensorflow-metadata in /usr/local/lib/python3.8/dist-packages (from tensorflow_datasets) (1.7.0)\n",
      "Requirement already satisfied: dill in /usr/local/lib/python3.8/dist-packages (from tensorflow_datasets) (0.3.4)\n",
      "Requirement already satisfied: six in /usr/lib/python3/dist-packages (from tensorflow_datasets) (1.14.0)\n",
      "Requirement already satisfied: promise in /usr/local/lib/python3.8/dist-packages (from tensorflow_datasets) (2.3)\n",
      "Requirement already satisfied: urllib3<1.27,>=1.21.1 in /usr/lib/python3/dist-packages (from requests>=2.19.0->tensorflow_datasets) (1.25.8)\n",
      "Requirement already satisfied: idna<4,>=2.5 in /usr/lib/python3/dist-packages (from requests>=2.19.0->tensorflow_datasets) (2.8)\n",
      "Requirement already satisfied: charset-normalizer~=2.0.0 in /usr/local/lib/python3.8/dist-packages (from requests>=2.19.0->tensorflow_datasets) (2.0.12)\n",
      "Requirement already satisfied: certifi>=2017.4.17 in /usr/lib/python3/dist-packages (from requests>=2.19.0->tensorflow_datasets) (2019.11.28)\n",
      "Requirement already satisfied: zipp>=3.1.0 in /usr/local/lib/python3.8/dist-packages (from importlib-resources->tensorflow_datasets) (3.7.0)\n",
      "Requirement already satisfied: googleapis-common-protos<2,>=1.52.0 in /usr/local/lib/python3.8/dist-packages (from tensorflow-metadata->tensorflow_datasets) (1.56.0)\n",
      "\u001b[33mWARNING: Running pip as the 'root' user can result in broken permissions and conflicting behaviour with the system package manager. It is recommended to use a virtual environment instead: https://pip.pypa.io/warnings/venv\u001b[0m\u001b[33m\n",
      "\u001b[0mRequirement already satisfied: tensorflow-text==2.8.* in /usr/local/lib/python3.8/dist-packages (2.8.1)\n",
      "Requirement already satisfied: tensorflow<2.9,>=2.8.0 in /usr/local/lib/python3.8/dist-packages (from tensorflow-text==2.8.*) (2.8.0)\n",
      "Requirement already satisfied: tensorflow-hub>=0.8.0 in /usr/local/lib/python3.8/dist-packages (from tensorflow-text==2.8.*) (0.12.0)\n",
      "Requirement already satisfied: six>=1.12.0 in /usr/lib/python3/dist-packages (from tensorflow<2.9,>=2.8.0->tensorflow-text==2.8.*) (1.14.0)\n",
      "Requirement already satisfied: typing-extensions>=3.6.6 in /usr/local/lib/python3.8/dist-packages (from tensorflow<2.9,>=2.8.0->tensorflow-text==2.8.*) (4.0.1)\n",
      "Requirement already satisfied: libclang>=9.0.1 in /usr/local/lib/python3.8/dist-packages (from tensorflow<2.9,>=2.8.0->tensorflow-text==2.8.*) (13.0.0)\n",
      "Requirement already satisfied: astunparse>=1.6.0 in /usr/local/lib/python3.8/dist-packages (from tensorflow<2.9,>=2.8.0->tensorflow-text==2.8.*) (1.6.3)\n",
      "Requirement already satisfied: flatbuffers>=1.12 in /usr/local/lib/python3.8/dist-packages (from tensorflow<2.9,>=2.8.0->tensorflow-text==2.8.*) (2.0)\n",
      "Requirement already satisfied: opt-einsum>=2.3.2 in /usr/local/lib/python3.8/dist-packages (from tensorflow<2.9,>=2.8.0->tensorflow-text==2.8.*) (3.3.0)\n",
      "Requirement already satisfied: tf-estimator-nightly==2.8.0.dev2021122109 in /usr/local/lib/python3.8/dist-packages (from tensorflow<2.9,>=2.8.0->tensorflow-text==2.8.*) (2.8.0.dev2021122109)\n",
      "Requirement already satisfied: gast>=0.2.1 in /usr/local/lib/python3.8/dist-packages (from tensorflow<2.9,>=2.8.0->tensorflow-text==2.8.*) (0.5.3)\n",
      "Requirement already satisfied: termcolor>=1.1.0 in /usr/local/lib/python3.8/dist-packages (from tensorflow<2.9,>=2.8.0->tensorflow-text==2.8.*) (1.1.0)\n",
      "Requirement already satisfied: h5py>=2.9.0 in /usr/local/lib/python3.8/dist-packages (from tensorflow<2.9,>=2.8.0->tensorflow-text==2.8.*) (3.6.0)\n",
      "Requirement already satisfied: grpcio<2.0,>=1.24.3 in /usr/local/lib/python3.8/dist-packages (from tensorflow<2.9,>=2.8.0->tensorflow-text==2.8.*) (1.43.0)\n",
      "Requirement already satisfied: google-pasta>=0.1.1 in /usr/local/lib/python3.8/dist-packages (from tensorflow<2.9,>=2.8.0->tensorflow-text==2.8.*) (0.2.0)\n",
      "Requirement already satisfied: tensorboard<2.9,>=2.8 in /usr/local/lib/python3.8/dist-packages (from tensorflow<2.9,>=2.8.0->tensorflow-text==2.8.*) (2.8.0)\n",
      "Requirement already satisfied: tensorflow-io-gcs-filesystem>=0.23.1 in /usr/local/lib/python3.8/dist-packages (from tensorflow<2.9,>=2.8.0->tensorflow-text==2.8.*) (0.23.1)\n",
      "Requirement already satisfied: setuptools in /usr/local/lib/python3.8/dist-packages (from tensorflow<2.9,>=2.8.0->tensorflow-text==2.8.*) (60.7.0)\n",
      "Requirement already satisfied: wrapt>=1.11.0 in /usr/local/lib/python3.8/dist-packages (from tensorflow<2.9,>=2.8.0->tensorflow-text==2.8.*) (1.13.3)\n",
      "Requirement already satisfied: keras<2.9,>=2.8.0rc0 in /usr/local/lib/python3.8/dist-packages (from tensorflow<2.9,>=2.8.0->tensorflow-text==2.8.*) (2.8.0)\n",
      "Requirement already satisfied: numpy>=1.20 in /usr/local/lib/python3.8/dist-packages (from tensorflow<2.9,>=2.8.0->tensorflow-text==2.8.*) (1.22.1)\n",
      "Requirement already satisfied: protobuf>=3.9.2 in /usr/local/lib/python3.8/dist-packages (from tensorflow<2.9,>=2.8.0->tensorflow-text==2.8.*) (3.19.4)\n",
      "Requirement already satisfied: keras-preprocessing>=1.1.1 in /usr/local/lib/python3.8/dist-packages (from tensorflow<2.9,>=2.8.0->tensorflow-text==2.8.*) (1.1.2)\n",
      "Requirement already satisfied: absl-py>=0.4.0 in /usr/local/lib/python3.8/dist-packages (from tensorflow<2.9,>=2.8.0->tensorflow-text==2.8.*) (1.0.0)\n",
      "Requirement already satisfied: wheel<1.0,>=0.23.0 in /usr/lib/python3/dist-packages (from astunparse>=1.6.0->tensorflow<2.9,>=2.8.0->tensorflow-text==2.8.*) (0.34.2)\n",
      "Requirement already satisfied: markdown>=2.6.8 in /usr/local/lib/python3.8/dist-packages (from tensorboard<2.9,>=2.8->tensorflow<2.9,>=2.8.0->tensorflow-text==2.8.*) (3.3.6)\n",
      "Requirement already satisfied: google-auth<3,>=1.6.3 in /usr/local/lib/python3.8/dist-packages (from tensorboard<2.9,>=2.8->tensorflow<2.9,>=2.8.0->tensorflow-text==2.8.*) (2.6.0)\n",
      "Requirement already satisfied: google-auth-oauthlib<0.5,>=0.4.1 in /usr/local/lib/python3.8/dist-packages (from tensorboard<2.9,>=2.8->tensorflow<2.9,>=2.8.0->tensorflow-text==2.8.*) (0.4.6)\n",
      "Requirement already satisfied: requests<3,>=2.21.0 in /usr/local/lib/python3.8/dist-packages (from tensorboard<2.9,>=2.8->tensorflow<2.9,>=2.8.0->tensorflow-text==2.8.*) (2.27.1)\n",
      "Requirement already satisfied: tensorboard-plugin-wit>=1.6.0 in /usr/local/lib/python3.8/dist-packages (from tensorboard<2.9,>=2.8->tensorflow<2.9,>=2.8.0->tensorflow-text==2.8.*) (1.8.1)\n",
      "Requirement already satisfied: werkzeug>=0.11.15 in /usr/local/lib/python3.8/dist-packages (from tensorboard<2.9,>=2.8->tensorflow<2.9,>=2.8.0->tensorflow-text==2.8.*) (2.0.2)\n",
      "Requirement already satisfied: tensorboard-data-server<0.7.0,>=0.6.0 in /usr/local/lib/python3.8/dist-packages (from tensorboard<2.9,>=2.8->tensorflow<2.9,>=2.8.0->tensorflow-text==2.8.*) (0.6.1)\n",
      "Requirement already satisfied: pyasn1-modules>=0.2.1 in /usr/local/lib/python3.8/dist-packages (from google-auth<3,>=1.6.3->tensorboard<2.9,>=2.8->tensorflow<2.9,>=2.8.0->tensorflow-text==2.8.*) (0.2.8)\n",
      "Requirement already satisfied: rsa<5,>=3.1.4 in /usr/local/lib/python3.8/dist-packages (from google-auth<3,>=1.6.3->tensorboard<2.9,>=2.8->tensorflow<2.9,>=2.8.0->tensorflow-text==2.8.*) (4.8)\n",
      "Requirement already satisfied: cachetools<6.0,>=2.0.0 in /usr/local/lib/python3.8/dist-packages (from google-auth<3,>=1.6.3->tensorboard<2.9,>=2.8->tensorflow<2.9,>=2.8.0->tensorflow-text==2.8.*) (5.0.0)\n",
      "Requirement already satisfied: requests-oauthlib>=0.7.0 in /usr/local/lib/python3.8/dist-packages (from google-auth-oauthlib<0.5,>=0.4.1->tensorboard<2.9,>=2.8->tensorflow<2.9,>=2.8.0->tensorflow-text==2.8.*) (1.3.1)\n",
      "Requirement already satisfied: importlib-metadata>=4.4 in /usr/local/lib/python3.8/dist-packages (from markdown>=2.6.8->tensorboard<2.9,>=2.8->tensorflow<2.9,>=2.8.0->tensorflow-text==2.8.*) (4.10.1)\n",
      "Requirement already satisfied: urllib3<1.27,>=1.21.1 in /usr/lib/python3/dist-packages (from requests<3,>=2.21.0->tensorboard<2.9,>=2.8->tensorflow<2.9,>=2.8.0->tensorflow-text==2.8.*) (1.25.8)\n",
      "Requirement already satisfied: idna<4,>=2.5 in /usr/lib/python3/dist-packages (from requests<3,>=2.21.0->tensorboard<2.9,>=2.8->tensorflow<2.9,>=2.8.0->tensorflow-text==2.8.*) (2.8)\n",
      "Requirement already satisfied: charset-normalizer~=2.0.0 in /usr/local/lib/python3.8/dist-packages (from requests<3,>=2.21.0->tensorboard<2.9,>=2.8->tensorflow<2.9,>=2.8.0->tensorflow-text==2.8.*) (2.0.12)\n",
      "Requirement already satisfied: certifi>=2017.4.17 in /usr/lib/python3/dist-packages (from requests<3,>=2.21.0->tensorboard<2.9,>=2.8->tensorflow<2.9,>=2.8.0->tensorflow-text==2.8.*) (2019.11.28)\n"
     ]
    },
    {
     "name": "stdout",
     "output_type": "stream",
     "text": [
      "Requirement already satisfied: zipp>=0.5 in /usr/local/lib/python3.8/dist-packages (from importlib-metadata>=4.4->markdown>=2.6.8->tensorboard<2.9,>=2.8->tensorflow<2.9,>=2.8.0->tensorflow-text==2.8.*) (3.7.0)\n",
      "Requirement already satisfied: pyasn1<0.5.0,>=0.4.6 in /usr/local/lib/python3.8/dist-packages (from pyasn1-modules>=0.2.1->google-auth<3,>=1.6.3->tensorboard<2.9,>=2.8->tensorflow<2.9,>=2.8.0->tensorflow-text==2.8.*) (0.4.8)\n",
      "Requirement already satisfied: oauthlib>=3.0.0 in /usr/local/lib/python3.8/dist-packages (from requests-oauthlib>=0.7.0->google-auth-oauthlib<0.5,>=0.4.1->tensorboard<2.9,>=2.8->tensorflow<2.9,>=2.8.0->tensorflow-text==2.8.*) (3.2.0)\n",
      "\u001b[33mWARNING: Running pip as the 'root' user can result in broken permissions and conflicting behaviour with the system package manager. It is recommended to use a virtual environment instead: https://pip.pypa.io/warnings/venv\u001b[0m\u001b[33m\n",
      "\u001b[0m"
     ]
    }
   ],
   "source": [
    "!pip install tensorflow_datasets\n",
    "!pip install -U 'tensorflow-text==2.8.*'"
   ]
  },
  {
   "cell_type": "code",
   "execution_count": 18,
   "metadata": {
    "execution": {
     "iopub.execute_input": "2022-03-29T12:09:16.435233Z",
     "iopub.status.busy": "2022-03-29T12:09:16.434776Z",
     "iopub.status.idle": "2022-03-29T12:09:19.390069Z",
     "shell.execute_reply": "2022-03-29T12:09:19.389487Z"
    },
    "id": "JjJJyJTZYebt"
   },
   "outputs": [],
   "source": [
    "import logging\n",
    "import time\n",
    "\n",
    "import numpy as np\n",
    "import matplotlib.pyplot as plt\n",
    "%matplotlib inline\n",
    "\n",
    "import tensorflow_datasets as tfds\n",
    "import tensorflow as tf\n",
    "\n",
    "# Import tf_text to load the ops used by the tokenizer saved model\n",
    "import tensorflow_text  # pylint: disable=unused-import"
   ]
  },
  {
   "cell_type": "code",
   "execution_count": 3,
   "metadata": {
    "execution": {
     "iopub.execute_input": "2022-03-29T12:09:19.393931Z",
     "iopub.status.busy": "2022-03-29T12:09:19.393573Z",
     "iopub.status.idle": "2022-03-29T12:09:19.396916Z",
     "shell.execute_reply": "2022-03-29T12:09:19.396401Z"
    },
    "id": "pXzVhU34zWEU"
   },
   "outputs": [],
   "source": [
    "logging.getLogger('tensorflow').setLevel(logging.ERROR)  # suppress warnings"
   ]
  },
  {
   "cell_type": "markdown",
   "metadata": {
    "id": "-cCvXbPkccV1"
   },
   "source": [
    "## Download the Dataset"
   ]
  },
  {
   "cell_type": "markdown",
   "metadata": {
    "id": "t4_Qt8W1hJE_"
   },
   "source": [
    "Use [TensorFlow datasets](https://www.tensorflow.org/datasets) to load the [Portuguese-English translation dataset](https://github.com/neulab/word-embeddings-for-nmt) from the [TED Talks Open Translation Project](https://www.ted.com/participate/translate).\n",
    "\n",
    "This dataset contains approximately 50000 training examples, 1100 validation examples, and 2000 test examples."
   ]
  },
  {
   "cell_type": "code",
   "execution_count": 4,
   "metadata": {
    "execution": {
     "iopub.execute_input": "2022-03-29T12:09:19.400144Z",
     "iopub.status.busy": "2022-03-29T12:09:19.399653Z",
     "iopub.status.idle": "2022-03-29T12:09:23.728240Z",
     "shell.execute_reply": "2022-03-29T12:09:23.727645Z"
    },
    "id": "8q9t4FmN96eN"
   },
   "outputs": [
    {
     "name": "stdout",
     "output_type": "stream",
     "text": [
      "\u001b[1mDownloading and preparing dataset 124.94 MiB (download: 124.94 MiB, generated: Unknown size, total: 124.94 MiB) to /root/tensorflow_datasets/ted_hrlr_translate/pt_to_en/1.0.0...\u001b[0m\n"
     ]
    },
    {
     "data": {
      "application/vnd.jupyter.widget-view+json": {
       "model_id": "69a8aed0f90c44d39385e002b29078e8",
       "version_major": 2,
       "version_minor": 0
      },
      "text/plain": [
       "Dl Completed...: 0 url [00:00, ? url/s]"
      ]
     },
     "metadata": {},
     "output_type": "display_data"
    },
    {
     "data": {
      "application/vnd.jupyter.widget-view+json": {
       "model_id": "e305e1ae673a416b979004fb9c2b975a",
       "version_major": 2,
       "version_minor": 0
      },
      "text/plain": [
       "Dl Size...: 0 MiB [00:00, ? MiB/s]"
      ]
     },
     "metadata": {},
     "output_type": "display_data"
    },
    {
     "data": {
      "application/vnd.jupyter.widget-view+json": {
       "model_id": "9f781598d65b4ab3aecf6b632d574b2c",
       "version_major": 2,
       "version_minor": 0
      },
      "text/plain": [
       "Extraction completed...: 0 file [00:00, ? file/s]"
      ]
     },
     "metadata": {},
     "output_type": "display_data"
    },
    {
     "data": {
      "application/vnd.jupyter.widget-view+json": {
       "model_id": "",
       "version_major": 2,
       "version_minor": 0
      },
      "text/plain": [
       "Generating splits...:   0%|          | 0/3 [00:00<?, ? splits/s]"
      ]
     },
     "metadata": {},
     "output_type": "display_data"
    },
    {
     "data": {
      "application/vnd.jupyter.widget-view+json": {
       "model_id": "",
       "version_major": 2,
       "version_minor": 0
      },
      "text/plain": [
       "Generating train examples...:   0%|          | 0/51785 [00:00<?, ? examples/s]"
      ]
     },
     "metadata": {},
     "output_type": "display_data"
    },
    {
     "data": {
      "application/vnd.jupyter.widget-view+json": {
       "model_id": "",
       "version_major": 2,
       "version_minor": 0
      },
      "text/plain": [
       "Shuffling /root/tensorflow_datasets/ted_hrlr_translate/pt_to_en/1.0.0.incompleteH1D0UX/ted_hrlr_translate-trai…"
      ]
     },
     "metadata": {},
     "output_type": "display_data"
    },
    {
     "data": {
      "application/vnd.jupyter.widget-view+json": {
       "model_id": "",
       "version_major": 2,
       "version_minor": 0
      },
      "text/plain": [
       "Generating validation examples...:   0%|          | 0/1193 [00:00<?, ? examples/s]"
      ]
     },
     "metadata": {},
     "output_type": "display_data"
    },
    {
     "data": {
      "application/vnd.jupyter.widget-view+json": {
       "model_id": "",
       "version_major": 2,
       "version_minor": 0
      },
      "text/plain": [
       "Shuffling /root/tensorflow_datasets/ted_hrlr_translate/pt_to_en/1.0.0.incompleteH1D0UX/ted_hrlr_translate-vali…"
      ]
     },
     "metadata": {},
     "output_type": "display_data"
    },
    {
     "data": {
      "application/vnd.jupyter.widget-view+json": {
       "model_id": "",
       "version_major": 2,
       "version_minor": 0
      },
      "text/plain": [
       "Generating test examples...:   0%|          | 0/1803 [00:00<?, ? examples/s]"
      ]
     },
     "metadata": {},
     "output_type": "display_data"
    },
    {
     "data": {
      "application/vnd.jupyter.widget-view+json": {
       "model_id": "",
       "version_major": 2,
       "version_minor": 0
      },
      "text/plain": [
       "Shuffling /root/tensorflow_datasets/ted_hrlr_translate/pt_to_en/1.0.0.incompleteH1D0UX/ted_hrlr_translate-test…"
      ]
     },
     "metadata": {},
     "output_type": "display_data"
    },
    {
     "name": "stdout",
     "output_type": "stream",
     "text": [
      "\u001b[1mDataset ted_hrlr_translate downloaded and prepared to /root/tensorflow_datasets/ted_hrlr_translate/pt_to_en/1.0.0. Subsequent calls will reuse this data.\u001b[0m\n"
     ]
    }
   ],
   "source": [
    "examples, metadata = tfds.load('ted_hrlr_translate/pt_to_en', with_info=True,\n",
    "                               as_supervised=True)\n",
    "train_examples, val_examples = examples['train'], examples['validation']"
   ]
  },
  {
   "cell_type": "markdown",
   "metadata": {
    "id": "1OnwQZ2IpTbl"
   },
   "source": [
    "The `tf.data.Dataset` object returned by TensorFlow datasets yields pairs of text examples:"
   ]
  },
  {
   "cell_type": "code",
   "execution_count": 6,
   "metadata": {
    "execution": {
     "iopub.execute_input": "2022-03-29T12:09:23.732561Z",
     "iopub.status.busy": "2022-03-29T12:09:23.731738Z",
     "iopub.status.idle": "2022-03-29T12:09:24.092814Z",
     "shell.execute_reply": "2022-03-29T12:09:24.092110Z"
    },
    "id": "AtuMLTQGlHZ1"
   },
   "outputs": [
    {
     "name": "stdout",
     "output_type": "stream",
     "text": [
      "e quando melhoramos a procura , tiramos a única vantagem da impressão , que é a serendipidade .\n",
      "mas e se estes fatores fossem ativos ?\n",
      "mas eles não tinham a curiosidade de me testar .\n",
      "and when you improve searchability , you actually take away the one advantage of print , which is serendipity .\n",
      "but what if it were active ?\n",
      "but they did n't test for curiosity .\n"
     ]
    }
   ],
   "source": [
    "for pt_examples, en_examples in train_examples.batch(3).take(1):\n",
    "    for pt in pt_examples.numpy():\n",
    "        print(pt.decode('utf-8'))\n",
    "\n",
    "    for en in en_examples.numpy():\n",
    "        print(en.decode('utf-8'))"
   ]
  },
  {
   "cell_type": "markdown",
   "metadata": {
    "id": "eJxTd6aVnZyh"
   },
   "source": [
    "## Text tokenization & detokenization"
   ]
  },
  {
   "cell_type": "markdown",
   "metadata": {
    "id": "WlHAFNaopq6U"
   },
   "source": [
    "You can't train a model directly on text. The text needs to be converted to some numeric representation first. Typically, you convert the text to sequences of token IDs, which are used as indices into an embedding."
   ]
  },
  {
   "cell_type": "markdown",
   "metadata": {
    "id": "2sPvbCEePzOC"
   },
   "source": [
    "One popular implementation is demonstrated in the [Subword tokenizer tutorial](https://www.tensorflow.org/text/guide/subwords_tokenizer) builds subword tokenizers (`text.BertTokenizer`) optimized for this dataset and exports them in a [saved_model](https://www.tensorflow.org/guide/saved_model).\n",
    "\n",
    "Download and unzip and import the `saved_model`:"
   ]
  },
  {
   "cell_type": "code",
   "execution_count": 7,
   "metadata": {
    "execution": {
     "iopub.execute_input": "2022-03-29T12:09:24.096469Z",
     "iopub.status.busy": "2022-03-29T12:09:24.095891Z",
     "iopub.status.idle": "2022-03-29T12:09:25.150492Z",
     "shell.execute_reply": "2022-03-29T12:09:25.149990Z"
    },
    "id": "QToMl0NanZPr"
   },
   "outputs": [
    {
     "data": {
      "text/plain": [
       "'./ted_hrlr_translate_pt_en_converter.zip'"
      ]
     },
     "execution_count": 7,
     "metadata": {},
     "output_type": "execute_result"
    }
   ],
   "source": [
    "model_name = 'ted_hrlr_translate_pt_en_converter'\n",
    "tf.keras.utils.get_file(\n",
    "    f'{model_name}.zip',\n",
    "    f'https://storage.googleapis.com/download.tensorflow.org/models/{model_name}.zip',\n",
    "    cache_dir='.', cache_subdir='', extract=True\n",
    ")"
   ]
  },
  {
   "cell_type": "code",
   "execution_count": 8,
   "metadata": {
    "execution": {
     "iopub.execute_input": "2022-03-29T12:09:25.153406Z",
     "iopub.status.busy": "2022-03-29T12:09:25.153217Z",
     "iopub.status.idle": "2022-03-29T12:09:25.944736Z",
     "shell.execute_reply": "2022-03-29T12:09:25.944090Z"
    },
    "id": "h5dbGnPXnuI1"
   },
   "outputs": [],
   "source": [
    "tokenizers = tf.saved_model.load(model_name)"
   ]
  },
  {
   "cell_type": "markdown",
   "metadata": {
    "id": "KQYc0CJTpnvg"
   },
   "source": [
    "The `tf.saved_model` contains two text tokenizers, one for English and one for Portuguese. Both have the same methods:"
   ]
  },
  {
   "cell_type": "code",
   "execution_count": 9,
   "metadata": {
    "execution": {
     "iopub.execute_input": "2022-03-29T12:09:25.948612Z",
     "iopub.status.busy": "2022-03-29T12:09:25.948115Z",
     "iopub.status.idle": "2022-03-29T12:09:25.953836Z",
     "shell.execute_reply": "2022-03-29T12:09:25.953146Z"
    },
    "id": "s-PCJijfcZ9_"
   },
   "outputs": [
    {
     "data": {
      "text/plain": [
       "['detokenize',\n",
       " 'get_reserved_tokens',\n",
       " 'get_vocab_path',\n",
       " 'get_vocab_size',\n",
       " 'lookup',\n",
       " 'tokenize',\n",
       " 'tokenizer',\n",
       " 'vocab']"
      ]
     },
     "execution_count": 9,
     "metadata": {},
     "output_type": "execute_result"
    }
   ],
   "source": [
    "[item for item in dir(tokenizers.en) if not item.startswith('_')]"
   ]
  },
  {
   "cell_type": "markdown",
   "metadata": {
    "id": "-pv_nc5lrAiD"
   },
   "source": [
    "The `tokenize` method converts a batch of strings to a padded-batch of token IDs. This method splits punctuation, lowercases and unicode-normalizes the input before tokenizing. That standardization is not visible here because the input data is already standardized."
   ]
  },
  {
   "cell_type": "code",
   "execution_count": 11,
   "metadata": {
    "execution": {
     "iopub.execute_input": "2022-03-29T12:09:25.957264Z",
     "iopub.status.busy": "2022-03-29T12:09:25.956818Z",
     "iopub.status.idle": "2022-03-29T12:09:25.960346Z",
     "shell.execute_reply": "2022-03-29T12:09:25.959762Z"
    },
    "id": "0GV-smAAQJtM"
   },
   "outputs": [
    {
     "name": "stdout",
     "output_type": "stream",
     "text": [
      "and when you improve searchability , you actually take away the one advantage of print , which is serendipity .\n",
      "but what if it were active ?\n",
      "but they did n't test for curiosity .\n"
     ]
    }
   ],
   "source": [
    "for en in en_examples.numpy():\n",
    "    print(en.decode('utf-8'))"
   ]
  },
  {
   "cell_type": "code",
   "execution_count": 12,
   "metadata": {
    "execution": {
     "iopub.execute_input": "2022-03-29T12:09:25.963325Z",
     "iopub.status.busy": "2022-03-29T12:09:25.962894Z",
     "iopub.status.idle": "2022-03-29T12:09:26.235529Z",
     "shell.execute_reply": "2022-03-29T12:09:26.234849Z"
    },
    "id": "2fQJq1xB-tOn"
   },
   "outputs": [
    {
     "name": "stdout",
     "output_type": "stream",
     "text": [
      "[2, 72, 117, 79, 1259, 1491, 2362, 13, 79, 150, 184, 311, 71, 103, 2308, 74, 2679, 13, 148, 80, 55, 4840, 1434, 2423, 540, 15, 3]\n",
      "[2, 87, 90, 107, 76, 129, 1852, 30, 3]\n",
      "[2, 87, 83, 149, 50, 9, 56, 664, 85, 2512, 15, 3]\n"
     ]
    }
   ],
   "source": [
    "encoded = tokenizers.en.tokenize(en_examples)\n",
    "\n",
    "for row in encoded.to_list():\n",
    "    print(row)"
   ]
  },
  {
   "cell_type": "markdown",
   "metadata": {
    "id": "dBRlikwDR2Lu"
   },
   "source": [
    "The `detokenize` method attempts to convert these token IDs back to human readable text: "
   ]
  },
  {
   "cell_type": "code",
   "execution_count": 13,
   "metadata": {
    "execution": {
     "iopub.execute_input": "2022-03-29T12:09:26.238747Z",
     "iopub.status.busy": "2022-03-29T12:09:26.238530Z",
     "iopub.status.idle": "2022-03-29T12:09:26.358650Z",
     "shell.execute_reply": "2022-03-29T12:09:26.358075Z"
    },
    "id": "Tpqx1aug3W31"
   },
   "outputs": [
    {
     "name": "stdout",
     "output_type": "stream",
     "text": [
      "and when you improve searchability , you actually take away the one advantage of print , which is serendipity .\n",
      "but what if it were active ?\n",
      "but they did n ' t test for curiosity .\n"
     ]
    }
   ],
   "source": [
    "round_trip = tokenizers.en.detokenize(encoded)\n",
    "for line in round_trip.numpy():\n",
    "    print(line.decode('utf-8'))"
   ]
  },
  {
   "cell_type": "markdown",
   "metadata": {
    "id": "e5mGvytArL9g"
   },
   "source": [
    "The lower level `lookup` method converts from token-IDs to token text:"
   ]
  },
  {
   "cell_type": "code",
   "execution_count": 14,
   "metadata": {
    "execution": {
     "iopub.execute_input": "2022-03-29T12:09:26.362586Z",
     "iopub.status.busy": "2022-03-29T12:09:26.362349Z",
     "iopub.status.idle": "2022-03-29T12:09:26.382429Z",
     "shell.execute_reply": "2022-03-29T12:09:26.381911Z"
    },
    "id": "RpzRLzvIuN3R"
   },
   "outputs": [
    {
     "data": {
      "text/plain": [
       "<tf.RaggedTensor [[b'[START]', b'and', b'when', b'you', b'improve', b'search', b'##ability',\n",
       "  b',', b'you', b'actually', b'take', b'away', b'the', b'one', b'advantage',\n",
       "  b'of', b'print', b',', b'which', b'is', b's', b'##ere', b'##nd', b'##ip',\n",
       "  b'##ity', b'.', b'[END]']                                                 ,\n",
       " [b'[START]', b'but', b'what', b'if', b'it', b'were', b'active', b'?',\n",
       "  b'[END]']                                                           ,\n",
       " [b'[START]', b'but', b'they', b'did', b'n', b\"'\", b't', b'test', b'for',\n",
       "  b'curiosity', b'.', b'[END]']                                          ]>"
      ]
     },
     "execution_count": 14,
     "metadata": {},
     "output_type": "execute_result"
    }
   ],
   "source": [
    "tokens = tokenizers.en.lookup(encoded)\n",
    "tokens"
   ]
  },
  {
   "cell_type": "markdown",
   "metadata": {
    "id": "5V8Ix_PNSfhV"
   },
   "source": [
    "Here you can see the \"subword\" aspect of the tokenizers. The word \"searchability\" is decomposed into \"search ##ability\" and the word \"serendipity\" into \"s ##ere ##nd ##ip ##ity\""
   ]
  },
  {
   "cell_type": "markdown",
   "metadata": {
    "id": "VhW8Gc8wJ98T"
   },
   "source": [
    "Now take a minute to investigate the distribution of tokens per example in the dataset:"
   ]
  },
  {
   "cell_type": "code",
   "execution_count": 15,
   "metadata": {
    "execution": {
     "iopub.execute_input": "2022-03-29T12:09:26.385589Z",
     "iopub.status.busy": "2022-03-29T12:09:26.385131Z",
     "iopub.status.idle": "2022-03-29T12:09:36.245063Z",
     "shell.execute_reply": "2022-03-29T12:09:36.244465Z"
    },
    "id": "egIny1M8HX0w"
   },
   "outputs": [
    {
     "name": "stdout",
     "output_type": "stream",
     "text": [
      "..................................................."
     ]
    }
   ],
   "source": [
    "lengths = []\n",
    "\n",
    "for pt_examples, en_examples in train_examples.batch(1024):\n",
    "    pt_tokens = tokenizers.en.tokenize(pt_examples)\n",
    "    lengths.append(pt_tokens.row_lengths())\n",
    "\n",
    "    en_tokens = tokenizers.en.tokenize(en_examples)\n",
    "    lengths.append(en_tokens.row_lengths())\n",
    "    print('.', end='', flush=True)"
   ]
  },
  {
   "cell_type": "code",
   "execution_count": 19,
   "metadata": {
    "execution": {
     "iopub.execute_input": "2022-03-29T12:09:36.248555Z",
     "iopub.status.busy": "2022-03-29T12:09:36.248022Z",
     "iopub.status.idle": "2022-03-29T12:09:36.490842Z",
     "shell.execute_reply": "2022-03-29T12:09:36.489918Z"
    },
    "id": "IIAV663YH3P3"
   },
   "outputs": [
    {
     "data": {
      "image/png": "[encoded data removed]",
      "text/plain": [
       "<Figure size 432x288 with 1 Axes>"
      ]
     },
     "metadata": {
      "needs_background": "light"
     },
     "output_type": "display_data"
    }
   ],
   "source": [
    "all_lengths = np.concatenate(lengths)\n",
    "\n",
    "plt.hist(all_lengths, np.linspace(0, 500, 101))\n",
    "plt.ylim(plt.ylim())\n",
    "max_length = max(all_lengths)\n",
    "plt.plot([max_length, max_length], plt.ylim())\n",
    "plt.title(f'Max tokens per example: {max_length}');"
   ]
  },
  {
   "cell_type": "code",
   "execution_count": 20,
   "metadata": {
    "execution": {
     "iopub.execute_input": "2022-03-29T12:09:36.494358Z",
     "iopub.status.busy": "2022-03-29T12:09:36.493936Z",
     "iopub.status.idle": "2022-03-29T12:09:36.497163Z",
     "shell.execute_reply": "2022-03-29T12:09:36.496492Z"
    },
    "id": "1v_e7nu3SISr"
   },
   "outputs": [],
   "source": [
    "MAX_TOKENS = 128"
   ]
  },
  {
   "cell_type": "markdown",
   "metadata": {
    "id": "fd1NWMxjfsDd"
   },
   "source": [
    "## Setup input pipeline"
   ]
  },
  {
   "cell_type": "markdown",
   "metadata": {
    "id": "E7JHK7N7tNZy"
   },
   "source": [
    "To build an input pipeline suitable for training define some functions to transform the dataset."
   ]
  },
  {
   "cell_type": "markdown",
   "metadata": {
    "id": "_F1tg9BMSTva"
   },
   "source": [
    "Define a function to drop the examples longer than `MAX_TOKENS`:"
   ]
  },
  {
   "cell_type": "code",
   "execution_count": 21,
   "metadata": {
    "execution": {
     "iopub.execute_input": "2022-03-29T12:09:36.500490Z",
     "iopub.status.busy": "2022-03-29T12:09:36.500118Z",
     "iopub.status.idle": "2022-03-29T12:09:36.503475Z",
     "shell.execute_reply": "2022-03-29T12:09:36.502892Z"
    },
    "id": "81fPafMpSVJ-"
   },
   "outputs": [],
   "source": [
    "def filter_max_tokens(pt, en):\n",
    "    num_tokens = tf.maximum(tf.shape(pt)[1],tf.shape(en)[1])\n",
    "    return num_tokens < MAX_TOKENS"
   ]
  },
  {
   "cell_type": "markdown",
   "metadata": {
    "id": "0eHuRZ_rTD7i"
   },
   "source": [
    "Define a function that tokenizes the batches of raw text:"
   ]
  },
  {
   "cell_type": "code",
   "execution_count": 22,
   "metadata": {
    "execution": {
     "iopub.execute_input": "2022-03-29T12:09:36.506662Z",
     "iopub.status.busy": "2022-03-29T12:09:36.506247Z",
     "iopub.status.idle": "2022-03-29T12:09:36.509774Z",
     "shell.execute_reply": "2022-03-29T12:09:36.509199Z"
    },
    "id": "6shgzEck3FiV"
   },
   "outputs": [],
   "source": [
    "def tokenize_pairs(pt, en):\n",
    "    pt = tokenizers.pt.tokenize(pt)\n",
    "    # Convert from ragged to dense, padding with zeros.\n",
    "    pt = pt.to_tensor()\n",
    "\n",
    "    en = tokenizers.en.tokenize(en)\n",
    "    # Convert from ragged to dense, padding with zeros.\n",
    "    en = en.to_tensor()\n",
    "    return pt, en"
   ]
  },
  {
   "cell_type": "markdown",
   "metadata": {
    "id": "cf2HwC_0wG0v"
   },
   "source": [
    "Here's a simple input pipeline that processes, shuffles and batches the data:"
   ]
  },
  {
   "cell_type": "code",
   "execution_count": 23,
   "metadata": {
    "execution": {
     "iopub.execute_input": "2022-03-29T12:09:36.513187Z",
     "iopub.status.busy": "2022-03-29T12:09:36.512733Z",
     "iopub.status.idle": "2022-03-29T12:09:36.515603Z",
     "shell.execute_reply": "2022-03-29T12:09:36.514966Z"
    },
    "id": "bcRp7VcQ5m6g"
   },
   "outputs": [],
   "source": [
    "BUFFER_SIZE = 20000\n",
    "BATCH_SIZE = 64"
   ]
  },
  {
   "cell_type": "code",
   "execution_count": 24,
   "metadata": {
    "execution": {
     "iopub.execute_input": "2022-03-29T12:09:36.518674Z",
     "iopub.status.busy": "2022-03-29T12:09:36.518243Z",
     "iopub.status.idle": "2022-03-29T12:09:36.766062Z",
     "shell.execute_reply": "2022-03-29T12:09:36.765494Z"
    },
    "id": "BUN_jLBTwNxk"
   },
   "outputs": [],
   "source": [
    "def make_batches(ds):\n",
    "    return (\n",
    "      ds\n",
    "      .cache()\n",
    "      .shuffle(BUFFER_SIZE)\n",
    "      .batch(BATCH_SIZE)\n",
    "      .map(tokenize_pairs, num_parallel_calls=tf.data.AUTOTUNE)\n",
    "      .filter(filter_max_tokens)\n",
    "      .prefetch(tf.data.AUTOTUNE))\n",
    "\n",
    "\n",
    "train_batches = make_batches(train_examples)\n",
    "val_batches = make_batches(val_examples)"
   ]
  },
  {
   "cell_type": "markdown",
   "metadata": {
    "id": "nBQuibYA4n0n"
   },
   "source": [
    "## Positional encoding\n",
    "\n",
    "Attention layers see their input as a set of vectors, with no sequential order. This model also doesn't contain any recurrent or convolutional layers. Because of this a \"positional encoding\" is added to give the model some information about the relative position of the tokens in the sentence. \n",
    "\n",
    "The positional encoding vector is added to the embedding vector. Embeddings represent a token in a d-dimensional space where tokens with similar meaning will be closer to each other. But the embeddings do not encode the relative position of tokens in a sentence. So after adding the positional encoding, tokens will be closer to each other based on the *similarity of their meaning and their position in the sentence*, in the d-dimensional space.\n",
    "\n",
    "The formula for calculating the positional encoding is as follows:\n",
    "\n",
    "$$\\Large{PE_{(pos, 2i)} = \\sin(pos / 10000^{2i / d_{model}})} $$\n",
    "$$\\Large{PE_{(pos, 2i+1)} = \\cos(pos / 10000^{2i / d_{model}})} $$"
   ]
  },
  {
   "cell_type": "code",
   "execution_count": 25,
   "metadata": {
    "execution": {
     "iopub.execute_input": "2022-03-29T12:09:36.769881Z",
     "iopub.status.busy": "2022-03-29T12:09:36.769681Z",
     "iopub.status.idle": "2022-03-29T12:09:36.773391Z",
     "shell.execute_reply": "2022-03-29T12:09:36.772686Z"
    },
    "id": "WhIOZjMNKujn"
   },
   "outputs": [],
   "source": [
    "def get_angles(pos, i, d_model):\n",
    "    angle_rates = 1 / np.power(10000, (2 * (i//2)) / np.float32(d_model))\n",
    "    return pos * angle_rates"
   ]
  },
  {
   "cell_type": "code",
   "execution_count": 26,
   "metadata": {
    "execution": {
     "iopub.execute_input": "2022-03-29T12:09:36.776465Z",
     "iopub.status.busy": "2022-03-29T12:09:36.775989Z",
     "iopub.status.idle": "2022-03-29T12:09:36.780357Z",
     "shell.execute_reply": "2022-03-29T12:09:36.779731Z"
    },
    "id": "1Rz82wEs5biZ"
   },
   "outputs": [],
   "source": [
    "def positional_encoding(position, d_model):\n",
    "    angle_rads = get_angles(np.arange(position)[:, np.newaxis],\n",
    "                          np.arange(d_model)[np.newaxis, :],\n",
    "                          d_model)\n",
    "\n",
    "    # apply sin to even indices in the array; 2i\n",
    "    angle_rads[:, 0::2] = np.sin(angle_rads[:, 0::2])\n",
    "\n",
    "    # apply cos to odd indices in the array; 2i+1\n",
    "    angle_rads[:, 1::2] = np.cos(angle_rads[:, 1::2])\n",
    "\n",
    "    pos_encoding = angle_rads[np.newaxis, ...]\n",
    "\n",
    "    return tf.cast(pos_encoding, dtype=tf.float32)"
   ]
  },
  {
   "cell_type": "code",
   "execution_count": 27,
   "metadata": {
    "execution": {
     "iopub.execute_input": "2022-03-29T12:09:36.783342Z",
     "iopub.status.busy": "2022-03-29T12:09:36.782903Z",
     "iopub.status.idle": "2022-03-29T12:09:37.409262Z",
     "shell.execute_reply": "2022-03-29T12:09:37.408712Z"
    },
    "id": "1kLCla68EloE"
   },
   "outputs": [
    {
     "name": "stdout",
     "output_type": "stream",
     "text": [
      "(1, 2048, 512)\n"
     ]
    },
    {
     "data": {
      "image/png": "[encoded data removed]",
      "text/plain": [
       "<Figure size 432x288 with 2 Axes>"
      ]
     },
     "metadata": {
      "needs_background": "light"
     },
     "output_type": "display_data"
    }
   ],
   "source": [
    "n, d = 2048, 512\n",
    "pos_encoding = positional_encoding(n, d)\n",
    "print(pos_encoding.shape)\n",
    "pos_encoding = pos_encoding[0]\n",
    "\n",
    "# Juggle the dimensions for the plot\n",
    "pos_encoding = tf.reshape(pos_encoding, (n, d//2, 2))\n",
    "pos_encoding = tf.transpose(pos_encoding, (2, 1, 0))\n",
    "pos_encoding = tf.reshape(pos_encoding, (d, n))\n",
    "\n",
    "plt.pcolormesh(pos_encoding, cmap='RdBu')\n",
    "plt.ylabel('Depth')\n",
    "plt.xlabel('Position')\n",
    "plt.colorbar()\n",
    "plt.show()"
   ]
  },
  {
   "cell_type": "markdown",
   "metadata": {
    "id": "a_b4ou4TYqUN"
   },
   "source": [
    "## Masking"
   ]
  },
  {
   "cell_type": "markdown",
   "metadata": {
    "id": "s42Uydjkv0hF"
   },
   "source": [
    "Mask all the pad tokens in the batch of sequence. It ensures that the model does not treat padding as the input. The mask indicates where pad value `0` is present: it outputs a `1` at those locations, and a `0` otherwise."
   ]
  },
  {
   "cell_type": "code",
   "execution_count": 28,
   "metadata": {
    "execution": {
     "iopub.execute_input": "2022-03-29T12:09:37.414493Z",
     "iopub.status.busy": "2022-03-29T12:09:37.413940Z",
     "iopub.status.idle": "2022-03-29T12:09:37.417472Z",
     "shell.execute_reply": "2022-03-29T12:09:37.416955Z"
    },
    "id": "U2i8-e1s8ti9"
   },
   "outputs": [],
   "source": [
    "def create_padding_mask(seq):\n",
    "    seq = tf.cast(tf.math.equal(seq, 0), tf.float32)\n",
    "\n",
    "    # add extra dimensions to add the padding\n",
    "    # to the attention logits.\n",
    "    return seq[:, tf.newaxis, tf.newaxis, :]  # (batch_size, 1, 1, seq_len)"
   ]
  },
  {
   "cell_type": "code",
   "execution_count": 29,
   "metadata": {
    "execution": {
     "iopub.execute_input": "2022-03-29T12:09:37.420358Z",
     "iopub.status.busy": "2022-03-29T12:09:37.420116Z",
     "iopub.status.idle": "2022-03-29T12:09:37.427698Z",
     "shell.execute_reply": "2022-03-29T12:09:37.427059Z"
    },
    "id": "A7BYeBCNvi7n"
   },
   "outputs": [
    {
     "data": {
      "text/plain": [
       "<tf.Tensor: shape=(3, 1, 1, 5), dtype=float32, numpy=\n",
       "array([[[[0., 0., 1., 1., 0.]]],\n",
       "\n",
       "\n",
       "       [[[0., 0., 0., 1., 1.]]],\n",
       "\n",
       "\n",
       "       [[[1., 1., 1., 0., 0.]]]], dtype=float32)>"
      ]
     },
     "execution_count": 29,
     "metadata": {},
     "output_type": "execute_result"
    }
   ],
   "source": [
    "x = tf.constant([[7, 6, 0, 0, 1], [1, 2, 3, 0, 0], [0, 0, 0, 4, 5]])\n",
    "create_padding_mask(x)"
   ]
  },
  {
   "cell_type": "markdown",
   "metadata": {
    "id": "Z0hzukDBgVom"
   },
   "source": [
    "The look-ahead mask is used to mask the future tokens in a sequence. In other words, the mask indicates which entries should not be used.\n",
    "\n",
    "This means that to predict the third token, only the first and second token will be used. Similarly to predict the fourth token, only the first, second and the third tokens will be used and so on."
   ]
  },
  {
   "cell_type": "code",
   "execution_count": 30,
   "metadata": {
    "execution": {
     "iopub.execute_input": "2022-03-29T12:09:37.431158Z",
     "iopub.status.busy": "2022-03-29T12:09:37.430544Z",
     "iopub.status.idle": "2022-03-29T12:09:37.434143Z",
     "shell.execute_reply": "2022-03-29T12:09:37.433609Z"
    },
    "id": "dVxS8OPI9uI0"
   },
   "outputs": [],
   "source": [
    "def create_look_ahead_mask(size):\n",
    "    mask = 1 - tf.linalg.band_part(tf.ones((size, size)), -1, 0)\n",
    "    return mask  # (seq_len, seq_len)"
   ]
  },
  {
   "cell_type": "code",
   "execution_count": 31,
   "metadata": {
    "execution": {
     "iopub.execute_input": "2022-03-29T12:09:37.437026Z",
     "iopub.status.busy": "2022-03-29T12:09:37.436549Z",
     "iopub.status.idle": "2022-03-29T12:09:37.442612Z",
     "shell.execute_reply": "2022-03-29T12:09:37.442015Z"
    },
    "id": "yxKGuXxaBeeE"
   },
   "outputs": [
    {
     "data": {
      "text/plain": [
       "<tf.Tensor: shape=(3, 3), dtype=float32, numpy=\n",
       "array([[0., 1., 1.],\n",
       "       [0., 0., 1.],\n",
       "       [0., 0., 0.]], dtype=float32)>"
      ]
     },
     "execution_count": 31,
     "metadata": {},
     "output_type": "execute_result"
    }
   ],
   "source": [
    "x = tf.random.uniform((1, 3))\n",
    "temp = create_look_ahead_mask(x.shape[1])\n",
    "temp"
   ]
  },
  {
   "cell_type": "markdown",
   "metadata": {
    "id": "xluDl5cXYy4y"
   },
   "source": [
    "## Scaled dot product attention"
   ]
  },
  {
   "cell_type": "markdown",
   "metadata": {
    "id": "vsxEE_-Wa1gF"
   },
   "source": [
    "<img src=\"https://www.tensorflow.org/images/tutorials/transformer/scaled_attention.png\" width=\"500\" alt=\"scaled_dot_product_attention\">\n",
    "\n",
    "The attention function used by a transformer takes three inputs: Q (query), K (key), V (value). The equation used to calculate the attention weights is:\n",
    "\n",
    "$$\\Large{Attention(Q, K, V) = softmax_k\\left(\\frac{QK^T}{\\sqrt{d_k}}\\right) V} $$\n",
    "\n",
    "The dot-product attention is scaled by a factor of square root of the depth. This is done because for large values of depth, the dot product grows large in magnitude pushing the softmax function where it has small gradients resulting in a very hard softmax.\n",
    "\n",
    "For example, consider that `Q` and `K` have a mean of 0 and variance of 1. Their matrix multiplication will have a mean of 0 and variance of `dk`. So the *square root of `dk`* is used for scaling, so you get a consistent variance regardless of the value of `dk`. If the variance is too low the output may be too flat to optimize effectively. If the variance is too high the softmax may saturate at initialization making it difficult to learn.\n",
    "\n",
    "The mask is multiplied with -1e9 (close to negative infinity). This is done because the mask is summed with the scaled matrix multiplication of Q and K and is applied immediately before a softmax. The goal is to zero out these cells, and large negative inputs to softmax are near zero in the output."
   ]
  },
  {
   "cell_type": "code",
   "execution_count": 34,
   "metadata": {
    "execution": {
     "iopub.execute_input": "2022-03-29T12:09:37.445821Z",
     "iopub.status.busy": "2022-03-29T12:09:37.445405Z",
     "iopub.status.idle": "2022-03-29T12:09:37.450558Z",
     "shell.execute_reply": "2022-03-29T12:09:37.449862Z"
    },
    "id": "LazzUq3bJ5SH"
   },
   "outputs": [],
   "source": [
    "def scaled_dot_product_attention(q, k, v, mask):\n",
    "    \"\"\"Calculate the attention weights.\n",
    "    q, k, v must have matching leading dimensions.\n",
    "    k, v must have matching penultimate dimension, i.e.: seq_len_k = seq_len_v.\n",
    "    The mask has different shapes depending on its type(padding or look ahead)\n",
    "    but it must be broadcastable for addition.\n",
    "\n",
    "    Args:\n",
    "    q: query shape == (..., seq_len_q, depth)\n",
    "    k: key shape == (..., seq_len_k, depth)\n",
    "    v: value shape == (..., seq_len_v, depth_v)\n",
    "    mask: Float tensor with shape broadcastable\n",
    "          to (..., seq_len_q, seq_len_k). Defaults to None.\n",
    "\n",
    "    Returns:\n",
    "    output, attention_weights\n",
    "    \"\"\"\n",
    "\n",
    "    matmul_qk = tf.matmul(q, k, transpose_b=True)  # (..., seq_len_q, seq_len_k)\n",
    "\n",
    "    # scale matmul_qk\n",
    "    dk = tf.cast(tf.shape(k)[-1], tf.float32)\n",
    "    scaled_attention_logits = matmul_qk / tf.math.sqrt(dk)\n",
    "\n",
    "    # add the mask to the scaled tensor.\n",
    "    if mask is not None:\n",
    "        scaled_attention_logits += (mask * -1e9)\n",
    "\n",
    "    # softmax is normalized on the last axis (seq_len_k) so that the scores\n",
    "    # add up to 1.\n",
    "    attention_weights = tf.nn.softmax(scaled_attention_logits, axis=-1)  # (..., seq_len_q, seq_len_k)\n",
    "\n",
    "    output = tf.matmul(attention_weights, v)  # (..., seq_len_q, depth_v)\n",
    "\n",
    "    return output, attention_weights"
   ]
  },
  {
   "cell_type": "markdown",
   "metadata": {
    "id": "FiqETnhCkoXh"
   },
   "source": [
    "As the softmax normalization is done on K, its values decide the amount of importance given to Q.\n",
    "\n",
    "The output represents the multiplication of the attention weights and the V (value) vector. This ensures that the tokens you want to focus on are kept as-is and the irrelevant tokens are flushed out."
   ]
  },
  {
   "cell_type": "code",
   "execution_count": 35,
   "metadata": {
    "execution": {
     "iopub.execute_input": "2022-03-29T12:09:37.453631Z",
     "iopub.status.busy": "2022-03-29T12:09:37.453220Z",
     "iopub.status.idle": "2022-03-29T12:09:37.456843Z",
     "shell.execute_reply": "2022-03-29T12:09:37.456178Z"
    },
    "id": "n90YjClyInFy"
   },
   "outputs": [],
   "source": [
    "def print_out(q, k, v):\n",
    "    temp_out, temp_attn = scaled_dot_product_attention(\n",
    "      q, k, v, None)\n",
    "    print('Attention weights are:')\n",
    "    print(temp_attn)\n",
    "    print('Output is:')\n",
    "    print(temp_out)"
   ]
  },
  {
   "cell_type": "code",
   "execution_count": 36,
   "metadata": {
    "execution": {
     "iopub.execute_input": "2022-03-29T12:09:37.459762Z",
     "iopub.status.busy": "2022-03-29T12:09:37.459322Z",
     "iopub.status.idle": "2022-03-29T12:09:37.849739Z",
     "shell.execute_reply": "2022-03-29T12:09:37.848903Z"
    },
    "id": "yAzUAf2DPlNt"
   },
   "outputs": [
    {
     "name": "stdout",
     "output_type": "stream",
     "text": [
      "Attention weights are:\n",
      "tf.Tensor([[0. 1. 0. 0.]], shape=(1, 4), dtype=float32)\n",
      "Output is:\n",
      "tf.Tensor([[10.  0.]], shape=(1, 2), dtype=float32)\n"
     ]
    }
   ],
   "source": [
    "np.set_printoptions(suppress=True)\n",
    "\n",
    "temp_k = tf.constant([[10, 0, 0],\n",
    "                      [0, 10, 0],\n",
    "                      [0, 0, 10],\n",
    "                      [0, 0, 10]], dtype=tf.float32)  # (4, 3)\n",
    "\n",
    "temp_v = tf.constant([[1, 0],\n",
    "                      [10, 0],\n",
    "                      [100, 5],\n",
    "                      [1000, 6]], dtype=tf.float32)  # (4, 2)\n",
    "\n",
    "# This `query` aligns with the second `key`,\n",
    "# so the second `value` is returned.\n",
    "temp_q = tf.constant([[0, 10, 0]], dtype=tf.float32)  # (1, 3)\n",
    "print_out(temp_q, temp_k, temp_v)"
   ]
  },
  {
   "cell_type": "code",
   "execution_count": 37,
   "metadata": {
    "execution": {
     "iopub.execute_input": "2022-03-29T12:09:37.853149Z",
     "iopub.status.busy": "2022-03-29T12:09:37.852668Z",
     "iopub.status.idle": "2022-03-29T12:09:37.858428Z",
     "shell.execute_reply": "2022-03-29T12:09:37.857842Z"
    },
    "id": "zg6k-fGhgXra"
   },
   "outputs": [
    {
     "name": "stdout",
     "output_type": "stream",
     "text": [
      "Attention weights are:\n",
      "tf.Tensor([[0.  0.  0.5 0.5]], shape=(1, 4), dtype=float32)\n",
      "Output is:\n",
      "tf.Tensor([[550.    5.5]], shape=(1, 2), dtype=float32)\n"
     ]
    }
   ],
   "source": [
    "# This query aligns with a repeated key (third and fourth),\n",
    "# so all associated values get averaged.\n",
    "temp_q = tf.constant([[0, 0, 10]], dtype=tf.float32)  # (1, 3)\n",
    "print_out(temp_q, temp_k, temp_v)"
   ]
  },
  {
   "cell_type": "code",
   "execution_count": 38,
   "metadata": {
    "execution": {
     "iopub.execute_input": "2022-03-29T12:09:37.861387Z",
     "iopub.status.busy": "2022-03-29T12:09:37.860936Z",
     "iopub.status.idle": "2022-03-29T12:09:37.866229Z",
     "shell.execute_reply": "2022-03-29T12:09:37.865753Z"
    },
    "id": "UAq3YOzUgXhb"
   },
   "outputs": [
    {
     "name": "stdout",
     "output_type": "stream",
     "text": [
      "Attention weights are:\n",
      "tf.Tensor([[0.5 0.5 0.  0. ]], shape=(1, 4), dtype=float32)\n",
      "Output is:\n",
      "tf.Tensor([[5.5 0. ]], shape=(1, 2), dtype=float32)\n"
     ]
    }
   ],
   "source": [
    "# This query aligns equally with the first and second key,\n",
    "# so their values get averaged.\n",
    "temp_q = tf.constant([[10, 10, 0]], dtype=tf.float32)  # (1, 3)\n",
    "print_out(temp_q, temp_k, temp_v)"
   ]
  },
  {
   "cell_type": "markdown",
   "metadata": {
    "id": "aOz-4_XIhaTP"
   },
   "source": [
    "Pass all the queries together."
   ]
  },
  {
   "cell_type": "code",
   "execution_count": 39,
   "metadata": {
    "execution": {
     "iopub.execute_input": "2022-03-29T12:09:37.868887Z",
     "iopub.status.busy": "2022-03-29T12:09:37.868713Z",
     "iopub.status.idle": "2022-03-29T12:09:37.874480Z",
     "shell.execute_reply": "2022-03-29T12:09:37.873812Z"
    },
    "id": "6dlU8Tm-hYrF"
   },
   "outputs": [
    {
     "name": "stdout",
     "output_type": "stream",
     "text": [
      "Attention weights are:\n",
      "tf.Tensor(\n",
      "[[0.  0.  0.5 0.5]\n",
      " [0.  1.  0.  0. ]\n",
      " [0.5 0.5 0.  0. ]], shape=(3, 4), dtype=float32)\n",
      "Output is:\n",
      "tf.Tensor(\n",
      "[[550.    5.5]\n",
      " [ 10.    0. ]\n",
      " [  5.5   0. ]], shape=(3, 2), dtype=float32)\n"
     ]
    }
   ],
   "source": [
    "temp_q = tf.constant([[0, 0, 10],\n",
    "                      [0, 10, 0],\n",
    "                      [10, 10, 0]], dtype=tf.float32)  # (3, 3)\n",
    "print_out(temp_q, temp_k, temp_v)"
   ]
  },
  {
   "cell_type": "markdown",
   "metadata": {
    "id": "kmzGPEy64qmA"
   },
   "source": [
    "## Multi-head attention"
   ]
  },
  {
   "cell_type": "markdown",
   "metadata": {
    "id": "fz5BMC8Kaoqo"
   },
   "source": [
    "<img src=\"https://www.tensorflow.org/images/tutorials/transformer/multi_head_attention.png\" width=\"500\" alt=\"multi-head attention\">\n",
    "\n",
    "\n",
    "Multi-head attention consists of four parts:\n",
    "*    Linear layers.\n",
    "*    Scaled dot-product attention.\n",
    "*    Final linear layer."
   ]
  },
  {
   "cell_type": "markdown",
   "metadata": {
    "id": "JPmbr6F1C-v_"
   },
   "source": [
    "Each multi-head attention block gets three inputs; Q (query), K (key), V (value). These are put through linear (Dense) layers before the multi-head attention function.\n",
    "\n",
    "In the diagram above `(K,Q,V)` are passed through sepearte linear (`Dense`) layers for each attention head. For simplicity/efficiency the code below implements this using a single dense layer with `num_heads` times as many outputs. The output is rearranged to a shape of `(batch, num_heads, ...)` before applying the attention function.\n",
    "\n",
    "The `scaled_dot_product_attention` function defined above is applied in a single call, broadcasted for efficiency. An appropriate mask must be used in the attention step.  The attention output for each head is then concatenated (using `tf.transpose`, and `tf.reshape`) and put through a final `Dense` layer.\n",
    "\n",
    "Instead of one single attention head, Q, K, and V are split into multiple heads because it allows the model to jointly attend to information from different representation subspaces at different positions. After the split each head has a reduced dimensionality, so the total computation cost is the same as a single head attention with full dimensionality."
   ]
  },
  {
   "cell_type": "code",
   "execution_count": 40,
   "metadata": {
    "execution": {
     "iopub.execute_input": "2022-03-29T12:09:37.877329Z",
     "iopub.status.busy": "2022-03-29T12:09:37.877164Z",
     "iopub.status.idle": "2022-03-29T12:09:37.884862Z",
     "shell.execute_reply": "2022-03-29T12:09:37.884376Z"
    },
    "id": "BSV3PPKsYecw"
   },
   "outputs": [],
   "source": [
    "class MultiHeadAttention(tf.keras.layers.Layer):\n",
    "    def __init__(self,*, d_model, num_heads):\n",
    "        super(MultiHeadAttention, self).__init__()\n",
    "        self.num_heads = num_heads\n",
    "        self.d_model = d_model\n",
    "\n",
    "        assert d_model % self.num_heads == 0\n",
    "\n",
    "        self.depth = d_model // self.num_heads\n",
    "\n",
    "        self.wq = tf.keras.layers.Dense(d_model)\n",
    "        self.wk = tf.keras.layers.Dense(d_model)\n",
    "        self.wv = tf.keras.layers.Dense(d_model)\n",
    "\n",
    "        self.dense = tf.keras.layers.Dense(d_model)\n",
    "\n",
    "    def split_heads(self, x, batch_size):\n",
    "        \"\"\"Split the last dimension into (num_heads, depth).\n",
    "        Transpose the result such that the shape is (batch_size, num_heads, seq_len, depth)\n",
    "        \"\"\"\n",
    "        x = tf.reshape(x, (batch_size, -1, self.num_heads, self.depth))\n",
    "        return tf.transpose(x, perm=[0, 2, 1, 3])\n",
    "\n",
    "    def call(self, v, k, q, mask):\n",
    "        batch_size = tf.shape(q)[0]\n",
    "\n",
    "        q = self.wq(q)  # (batch_size, seq_len, d_model)\n",
    "        k = self.wk(k)  # (batch_size, seq_len, d_model)\n",
    "        v = self.wv(v)  # (batch_size, seq_len, d_model)\n",
    "\n",
    "        q = self.split_heads(q, batch_size)  # (batch_size, num_heads, seq_len_q, depth)\n",
    "        k = self.split_heads(k, batch_size)  # (batch_size, num_heads, seq_len_k, depth)\n",
    "        v = self.split_heads(v, batch_size)  # (batch_size, num_heads, seq_len_v, depth)\n",
    "\n",
    "        # scaled_attention.shape == (batch_size, num_heads, seq_len_q, depth)\n",
    "        # attention_weights.shape == (batch_size, num_heads, seq_len_q, seq_len_k)\n",
    "        scaled_attention, attention_weights = scaled_dot_product_attention(\n",
    "            q, k, v, mask)\n",
    "\n",
    "        scaled_attention = tf.transpose(scaled_attention, perm=[0, 2, 1, 3])  # (batch_size, seq_len_q, num_heads, depth)\n",
    "\n",
    "        concat_attention = tf.reshape(scaled_attention,\n",
    "                                      (batch_size, -1, self.d_model))  # (batch_size, seq_len_q, d_model)\n",
    "\n",
    "        output = self.dense(concat_attention)  # (batch_size, seq_len_q, d_model)\n",
    "\n",
    "        return output, attention_weights"
   ]
  },
  {
   "cell_type": "markdown",
   "metadata": {
    "id": "0D8FJue5lDyZ"
   },
   "source": [
    "Create a `MultiHeadAttention` layer to try out. At each location in the sequence, `y`, the `MultiHeadAttention` runs all 8 attention heads across all other locations in the sequence, returning a new vector of the same length at each location."
   ]
  },
  {
   "cell_type": "code",
   "execution_count": 41,
   "metadata": {
    "execution": {
     "iopub.execute_input": "2022-03-29T12:09:37.887625Z",
     "iopub.status.busy": "2022-03-29T12:09:37.887219Z",
     "iopub.status.idle": "2022-03-29T12:09:37.913394Z",
     "shell.execute_reply": "2022-03-29T12:09:37.912923Z"
    },
    "id": "Hu94p-_-2_BX"
   },
   "outputs": [
    {
     "data": {
      "text/plain": [
       "(TensorShape([1, 60, 512]), TensorShape([1, 8, 60, 60]))"
      ]
     },
     "execution_count": 41,
     "metadata": {},
     "output_type": "execute_result"
    }
   ],
   "source": [
    "temp_mha = MultiHeadAttention(d_model=512, num_heads=8)\n",
    "y = tf.random.uniform((1, 60, 512))  # (batch_size, encoder_sequence, d_model)\n",
    "out, attn = temp_mha(y, k=y, q=y, mask=None)\n",
    "out.shape, attn.shape"
   ]
  },
  {
   "cell_type": "markdown",
   "metadata": {
    "id": "RdDqGayx67vv"
   },
   "source": [
    "## Point wise feed forward network"
   ]
  },
  {
   "cell_type": "markdown",
   "metadata": {
    "id": "gBqzJXGfHK3X"
   },
   "source": [
    "Point wise feed forward network consists of two fully-connected layers with a ReLU activation in between."
   ]
  },
  {
   "cell_type": "code",
   "execution_count": 42,
   "metadata": {
    "execution": {
     "iopub.execute_input": "2022-03-29T12:09:37.916358Z",
     "iopub.status.busy": "2022-03-29T12:09:37.915860Z",
     "iopub.status.idle": "2022-03-29T12:09:37.919218Z",
     "shell.execute_reply": "2022-03-29T12:09:37.918565Z"
    },
    "id": "ET7xLt0yCT6Z"
   },
   "outputs": [],
   "source": [
    "def point_wise_feed_forward_network(d_model, dff):\n",
    "    return tf.keras.Sequential([\n",
    "      tf.keras.layers.Dense(dff, activation='relu'),  # (batch_size, seq_len, dff)\n",
    "      tf.keras.layers.Dense(d_model)  # (batch_size, seq_len, d_model)\n",
    "    ])"
   ]
  },
  {
   "cell_type": "code",
   "execution_count": 43,
   "metadata": {
    "execution": {
     "iopub.execute_input": "2022-03-29T12:09:37.921938Z",
     "iopub.status.busy": "2022-03-29T12:09:37.921482Z",
     "iopub.status.idle": "2022-03-29T12:09:37.949028Z",
     "shell.execute_reply": "2022-03-29T12:09:37.948305Z"
    },
    "id": "mytb1lPyOHLB"
   },
   "outputs": [
    {
     "data": {
      "text/plain": [
       "TensorShape([64, 50, 512])"
      ]
     },
     "execution_count": 43,
     "metadata": {},
     "output_type": "execute_result"
    }
   ],
   "source": [
    "sample_ffn = point_wise_feed_forward_network(512, 2048)\n",
    "sample_ffn(tf.random.uniform((64, 50, 512))).shape"
   ]
  },
  {
   "cell_type": "markdown",
   "metadata": {
    "id": "7e7hKcxn6-zd"
   },
   "source": [
    "## Encoder and decoder"
   ]
  },
  {
   "cell_type": "markdown",
   "metadata": {
    "id": "yScbC0MUH8dS"
   },
   "source": [
    "<img src=\"https://www.tensorflow.org/images/tutorials/transformer/transformer.png\" width=\"600\" alt=\"transformer\">"
   ]
  },
  {
   "cell_type": "markdown",
   "metadata": {
    "id": "MfYJG-Kvgwy2"
   },
   "source": [
    "A transformer model follows the same general pattern as a standard [sequence to sequence with attention model](https://www.tensorflow.org/text/tutorials/nmt_with_attention.ipynb). \n",
    "\n",
    "* The input sentence is passed through `N` encoder layers that generates an output for each token in the sequence.\n",
    "* The decoder attends to the encoder's output and its own input (self-attention) to predict the next word. "
   ]
  },
  {
   "cell_type": "markdown",
   "metadata": {
    "id": "QFv-FNYUmvpn"
   },
   "source": [
    "### Encoder layer\n",
    "\n",
    "Each encoder layer consists of sublayers:\n",
    "\n",
    "1.   Multi-head attention (with padding mask)\n",
    "2.    Point wise feed forward networks.\n",
    "\n",
    "Each of these sublayers has a residual connection around it followed by a layer normalization. Residual connections help in avoiding the vanishing gradient problem in deep networks.\n",
    "\n",
    "The output of each sublayer is `LayerNorm(x + Sublayer(x))`. The normalization is done on the `d_model` (last) axis. There are N encoder layers in a transformer."
   ]
  },
  {
   "cell_type": "code",
   "execution_count": 45,
   "metadata": {
    "execution": {
     "iopub.execute_input": "2022-03-29T12:09:37.952217Z",
     "iopub.status.busy": "2022-03-29T12:09:37.952033Z",
     "iopub.status.idle": "2022-03-29T12:09:38.106278Z",
     "shell.execute_reply": "2022-03-29T12:09:38.105690Z"
    },
    "id": "ncyS-Ms3i2x_"
   },
   "outputs": [],
   "source": [
    "class EncoderLayer(tf.keras.layers.Layer):\n",
    "    def __init__(self,*, d_model, num_heads, dff, rate=0.1):\n",
    "        super(EncoderLayer, self).__init__()\n",
    "\n",
    "        self.mha = MultiHeadAttention(d_model=d_model, num_heads=num_heads)\n",
    "        self.ffn = point_wise_feed_forward_network(d_model, dff)\n",
    "\n",
    "        self.layernorm1 = tf.keras.layers.LayerNormalization(epsilon=1e-6)\n",
    "        self.layernorm2 = tf.keras.layers.LayerNormalization(epsilon=1e-6)\n",
    "\n",
    "        self.dropout1 = tf.keras.layers.Dropout(rate)\n",
    "        self.dropout2 = tf.keras.layers.Dropout(rate)\n",
    "\n",
    "    def call(self, x, training, mask):\n",
    "\n",
    "        attn_output, _ = self.mha(x, x, x, mask)  # (batch_size, input_seq_len, d_model)\n",
    "        attn_output = self.dropout1(attn_output, training=training)\n",
    "        out1 = self.layernorm1(x + attn_output)  # (batch_size, input_seq_len, d_model)\n",
    "\n",
    "        ffn_output = self.ffn(out1)  # (batch_size, input_seq_len, d_model)\n",
    "        ffn_output = self.dropout2(ffn_output, training=training)\n",
    "        out2 = self.layernorm2(out1 + ffn_output)  # (batch_size, input_seq_len, d_model)\n",
    "\n",
    "        return out2"
   ]
  },
  {
   "cell_type": "code",
   "execution_count": 46,
   "metadata": {
    "execution": {
     "iopub.execute_input": "2022-03-29T12:09:38.109498Z",
     "iopub.status.busy": "2022-03-29T12:09:38.109030Z",
     "iopub.status.idle": "2022-03-29T12:09:38.164911Z",
     "shell.execute_reply": "2022-03-29T12:09:38.164340Z"
    },
    "id": "AzZRXdO0mI48"
   },
   "outputs": [
    {
     "data": {
      "text/plain": [
       "TensorShape([64, 43, 512])"
      ]
     },
     "execution_count": 46,
     "metadata": {},
     "output_type": "execute_result"
    }
   ],
   "source": [
    "sample_encoder_layer = EncoderLayer(d_model=512, num_heads=8, dff=2048)\n",
    "\n",
    "sample_encoder_layer_output = sample_encoder_layer(\n",
    "    tf.random.uniform((64, 43, 512)), False, None)\n",
    "\n",
    "sample_encoder_layer_output.shape  # (batch_size, input_seq_len, d_model)"
   ]
  },
  {
   "cell_type": "markdown",
   "metadata": {
    "id": "6LO_48Owmx_o"
   },
   "source": [
    "### Decoder layer\n",
    "\n",
    "Each decoder layer consists of sublayers:\n",
    "\n",
    "1.   Masked multi-head attention (with look ahead mask and padding mask)\n",
    "2.   Multi-head attention (with padding mask). V (value) and K (key) receive the *encoder output* as inputs. Q (query) receives the *output from the masked multi-head attention sublayer.*\n",
    "3.   Point wise feed forward networks\n",
    "\n",
    "Each of these sublayers has a residual connection around it followed by a layer normalization. The output of each sublayer is `LayerNorm(x + Sublayer(x))`. The normalization is done on the `d_model` (last) axis.\n",
    "\n",
    "There are a number of decoder layers in the model.\n",
    "\n",
    "As Q receives the output from decoder's first attention block, and K receives the encoder output, the attention weights represent the importance given to the decoder's input based on the encoder's output. In other words, the decoder predicts the next token by looking at the encoder output and self-attending to its own output. See the demonstration above in the scaled dot product attention section."
   ]
  },
  {
   "cell_type": "code",
   "execution_count": 48,
   "metadata": {
    "execution": {
     "iopub.execute_input": "2022-03-29T12:09:38.168014Z",
     "iopub.status.busy": "2022-03-29T12:09:38.167532Z",
     "iopub.status.idle": "2022-03-29T12:09:38.174699Z",
     "shell.execute_reply": "2022-03-29T12:09:38.174216Z"
    },
    "id": "9SoX0-vd1hue"
   },
   "outputs": [],
   "source": [
    "class DecoderLayer(tf.keras.layers.Layer):\n",
    "    def __init__(self,*, d_model, num_heads, dff, rate=0.1):\n",
    "        super(DecoderLayer, self).__init__()\n",
    "\n",
    "        self.mha1 = MultiHeadAttention(d_model=d_model, num_heads=num_heads)\n",
    "        self.mha2 = MultiHeadAttention(d_model=d_model, num_heads=num_heads)\n",
    "\n",
    "        self.ffn = point_wise_feed_forward_network(d_model, dff)\n",
    "\n",
    "        self.layernorm1 = tf.keras.layers.LayerNormalization(epsilon=1e-6)\n",
    "        self.layernorm2 = tf.keras.layers.LayerNormalization(epsilon=1e-6)\n",
    "        self.layernorm3 = tf.keras.layers.LayerNormalization(epsilon=1e-6)\n",
    "\n",
    "        self.dropout1 = tf.keras.layers.Dropout(rate)\n",
    "        self.dropout2 = tf.keras.layers.Dropout(rate)\n",
    "        self.dropout3 = tf.keras.layers.Dropout(rate)\n",
    "\n",
    "    def call(self, x, enc_output, training,\n",
    "           look_ahead_mask, padding_mask):\n",
    "        # enc_output.shape == (batch_size, input_seq_len, d_model)\n",
    "\n",
    "        attn1, attn_weights_block1 = self.mha1(x, x, x, look_ahead_mask)  # (batch_size, target_seq_len, d_model)\n",
    "        attn1 = self.dropout1(attn1, training=training)\n",
    "        out1 = self.layernorm1(attn1 + x)\n",
    "\n",
    "        attn2, attn_weights_block2 = self.mha2(\n",
    "            enc_output, enc_output, out1, padding_mask)  # (batch_size, target_seq_len, d_model)\n",
    "        attn2 = self.dropout2(attn2, training=training)\n",
    "        out2 = self.layernorm2(attn2 + out1)  # (batch_size, target_seq_len, d_model)\n",
    "\n",
    "        ffn_output = self.ffn(out2)  # (batch_size, target_seq_len, d_model)\n",
    "        ffn_output = self.dropout3(ffn_output, training=training)\n",
    "        out3 = self.layernorm3(ffn_output + out2)  # (batch_size, target_seq_len, d_model)\n",
    "\n",
    "        return out3, attn_weights_block1, attn_weights_block2"
   ]
  },
  {
   "cell_type": "code",
   "execution_count": 49,
   "metadata": {
    "execution": {
     "iopub.execute_input": "2022-03-29T12:09:38.177550Z",
     "iopub.status.busy": "2022-03-29T12:09:38.177115Z",
     "iopub.status.idle": "2022-03-29T12:09:38.243650Z",
     "shell.execute_reply": "2022-03-29T12:09:38.243189Z"
    },
    "id": "Ne2Bqx8k71l0"
   },
   "outputs": [
    {
     "data": {
      "text/plain": [
       "TensorShape([64, 50, 512])"
      ]
     },
     "execution_count": 49,
     "metadata": {},
     "output_type": "execute_result"
    }
   ],
   "source": [
    "sample_decoder_layer = DecoderLayer(d_model=512, num_heads=8, dff=2048)\n",
    "\n",
    "sample_decoder_layer_output, _, _ = sample_decoder_layer(\n",
    "    tf.random.uniform((64, 50, 512)), sample_encoder_layer_output,\n",
    "    False, None, None)\n",
    "\n",
    "sample_decoder_layer_output.shape  # (batch_size, target_seq_len, d_model)"
   ]
  },
  {
   "cell_type": "markdown",
   "metadata": {
    "id": "SE1H51Ajm0q1"
   },
   "source": [
    "### Encoder\n",
    "\n",
    "The `Encoder` consists of:\n",
    "1.   Input Embedding\n",
    "2.   Positional Encoding\n",
    "3.   N encoder layers\n",
    "\n",
    "The input is put through an embedding which is summed with the positional encoding. The output of this summation is the input to the encoder layers. The output of the encoder is the input to the decoder."
   ]
  },
  {
   "cell_type": "code",
   "execution_count": 50,
   "metadata": {
    "execution": {
     "iopub.execute_input": "2022-03-29T12:09:38.246695Z",
     "iopub.status.busy": "2022-03-29T12:09:38.246509Z",
     "iopub.status.idle": "2022-03-29T12:09:38.253590Z",
     "shell.execute_reply": "2022-03-29T12:09:38.253018Z"
    },
    "id": "jpEox7gJ8FCI"
   },
   "outputs": [],
   "source": [
    "class Encoder(tf.keras.layers.Layer):\n",
    "    def __init__(self,*, num_layers, d_model, num_heads, dff, input_vocab_size,\n",
    "               rate=0.1):\n",
    "        super(Encoder, self).__init__()\n",
    "\n",
    "        self.d_model = d_model\n",
    "        self.num_layers = num_layers\n",
    "\n",
    "        self.embedding = tf.keras.layers.Embedding(input_vocab_size, d_model)\n",
    "        self.pos_encoding = positional_encoding(MAX_TOKENS, self.d_model)\n",
    "\n",
    "        self.enc_layers = [\n",
    "            EncoderLayer(d_model=d_model, num_heads=num_heads, dff=dff, rate=rate)\n",
    "            for _ in range(num_layers)]\n",
    "\n",
    "        self.dropout = tf.keras.layers.Dropout(rate)\n",
    "\n",
    "    def call(self, x, training, mask):\n",
    "\n",
    "        seq_len = tf.shape(x)[1]\n",
    "\n",
    "        # adding embedding and position encoding.\n",
    "        x = self.embedding(x)  # (batch_size, input_seq_len, d_model)\n",
    "        x *= tf.math.sqrt(tf.cast(self.d_model, tf.float32))\n",
    "        x += self.pos_encoding[:, :seq_len, :]\n",
    "\n",
    "        x = self.dropout(x, training=training)\n",
    "\n",
    "        for i in range(self.num_layers):\n",
    "            x = self.enc_layers[i](x, training, mask)\n",
    "\n",
    "        return x  # (batch_size, input_seq_len, d_model)"
   ]
  },
  {
   "cell_type": "code",
   "execution_count": 51,
   "metadata": {
    "execution": {
     "iopub.execute_input": "2022-03-29T12:09:38.256590Z",
     "iopub.status.busy": "2022-03-29T12:09:38.256041Z",
     "iopub.status.idle": "2022-03-29T12:09:38.355077Z",
     "shell.execute_reply": "2022-03-29T12:09:38.354524Z"
    },
    "id": "8QG9nueFQKXx"
   },
   "outputs": [
    {
     "name": "stdout",
     "output_type": "stream",
     "text": [
      "(64, 62, 512)\n"
     ]
    }
   ],
   "source": [
    "sample_encoder = Encoder(num_layers=2, d_model=512, num_heads=8,\n",
    "                         dff=2048, input_vocab_size=8500)\n",
    "temp_input = tf.random.uniform((64, 62), dtype=tf.int64, minval=0, maxval=200)\n",
    "\n",
    "sample_encoder_output = sample_encoder(temp_input, training=False, mask=None)\n",
    "\n",
    "print(sample_encoder_output.shape)  # (batch_size, input_seq_len, d_model)"
   ]
  },
  {
   "cell_type": "markdown",
   "metadata": {
    "id": "p-uO6ls8m2O5"
   },
   "source": [
    "### Decoder"
   ]
  },
  {
   "cell_type": "markdown",
   "metadata": {
    "id": "ZtT7PKzrXkNr"
   },
   "source": [
    " The `Decoder` consists of:\n",
    "1.   Output Embedding\n",
    "2.   Positional Encoding\n",
    "3.   N decoder layers\n",
    "\n",
    "The target is put through an embedding which is summed with the positional encoding. The output of this summation is the input to the decoder layers. The output of the decoder is the input to the final linear layer."
   ]
  },
  {
   "cell_type": "code",
   "execution_count": 52,
   "metadata": {
    "execution": {
     "iopub.execute_input": "2022-03-29T12:09:38.358592Z",
     "iopub.status.busy": "2022-03-29T12:09:38.358115Z",
     "iopub.status.idle": "2022-03-29T12:09:38.365442Z",
     "shell.execute_reply": "2022-03-29T12:09:38.364863Z"
    },
    "id": "d5_d5-PLQXwY"
   },
   "outputs": [],
   "source": [
    "class Decoder(tf.keras.layers.Layer):\n",
    "    def __init__(self,*, num_layers, d_model, num_heads, dff, target_vocab_size,\n",
    "               rate=0.1):\n",
    "        super(Decoder, self).__init__()\n",
    "\n",
    "        self.d_model = d_model\n",
    "        self.num_layers = num_layers\n",
    "\n",
    "        self.embedding = tf.keras.layers.Embedding(target_vocab_size, d_model)\n",
    "        self.pos_encoding = positional_encoding(MAX_TOKENS, d_model)\n",
    "\n",
    "        self.dec_layers = [\n",
    "            DecoderLayer(d_model=d_model, num_heads=num_heads, dff=dff, rate=rate)\n",
    "            for _ in range(num_layers)]\n",
    "        self.dropout = tf.keras.layers.Dropout(rate)\n",
    "\n",
    "    def call(self, x, enc_output, training,\n",
    "           look_ahead_mask, padding_mask):\n",
    "\n",
    "        seq_len = tf.shape(x)[1]\n",
    "        attention_weights = {}\n",
    "\n",
    "        x = self.embedding(x)  # (batch_size, target_seq_len, d_model)\n",
    "        x *= tf.math.sqrt(tf.cast(self.d_model, tf.float32))\n",
    "        x += self.pos_encoding[:, :seq_len, :]\n",
    "\n",
    "        x = self.dropout(x, training=training)\n",
    "\n",
    "        for i in range(self.num_layers):\n",
    "            x, block1, block2 = self.dec_layers[i](x, enc_output, training,\n",
    "                                                 look_ahead_mask, padding_mask)\n",
    "\n",
    "            attention_weights[f'decoder_layer{i+1}_block1'] = block1\n",
    "            attention_weights[f'decoder_layer{i+1}_block2'] = block2\n",
    "\n",
    "        # x.shape == (batch_size, target_seq_len, d_model)\n",
    "        return x, attention_weights"
   ]
  },
  {
   "cell_type": "code",
   "execution_count": 53,
   "metadata": {
    "execution": {
     "iopub.execute_input": "2022-03-29T12:09:38.368680Z",
     "iopub.status.busy": "2022-03-29T12:09:38.368105Z",
     "iopub.status.idle": "2022-03-29T12:09:38.504797Z",
     "shell.execute_reply": "2022-03-29T12:09:38.504059Z"
    },
    "id": "a1jXoAMRZyvu"
   },
   "outputs": [
    {
     "data": {
      "text/plain": [
       "(TensorShape([64, 26, 512]), TensorShape([64, 8, 26, 62]))"
      ]
     },
     "execution_count": 53,
     "metadata": {},
     "output_type": "execute_result"
    }
   ],
   "source": [
    "sample_decoder = Decoder(num_layers=2, d_model=512, num_heads=8,\n",
    "                         dff=2048, target_vocab_size=8000)\n",
    "temp_input = tf.random.uniform((64, 26), dtype=tf.int64, minval=0, maxval=200)\n",
    "\n",
    "output, attn = sample_decoder(temp_input,\n",
    "                              enc_output=sample_encoder_output,\n",
    "                              training=False,\n",
    "                              look_ahead_mask=None,\n",
    "                              padding_mask=None)\n",
    "\n",
    "output.shape, attn['decoder_layer2_block2'].shape"
   ]
  },
  {
   "cell_type": "markdown",
   "metadata": {
    "id": "y54xnJnuYgJ7"
   },
   "source": [
    "## Create the transformer model"
   ]
  },
  {
   "cell_type": "markdown",
   "metadata": {
    "id": "uERO1y54cOKq"
   },
   "source": [
    "A transformer consists of the encoder, decoder, and a final linear layer. The output of the decoder is the input to the linear layer and its output is returned."
   ]
  },
  {
   "cell_type": "code",
   "execution_count": 54,
   "metadata": {
    "execution": {
     "iopub.execute_input": "2022-03-29T12:09:38.508373Z",
     "iopub.status.busy": "2022-03-29T12:09:38.507892Z",
     "iopub.status.idle": "2022-03-29T12:09:38.515343Z",
     "shell.execute_reply": "2022-03-29T12:09:38.514502Z"
    },
    "id": "PED3bIpOYkBu"
   },
   "outputs": [],
   "source": [
    "class Transformer(tf.keras.Model):\n",
    "    def __init__(self,*, num_layers, d_model, num_heads, dff, input_vocab_size,\n",
    "               target_vocab_size, rate=0.1):\n",
    "        super().__init__()\n",
    "        self.encoder = Encoder(num_layers=num_layers, d_model=d_model,\n",
    "                               num_heads=num_heads, dff=dff,\n",
    "                               input_vocab_size=input_vocab_size, rate=rate)\n",
    "\n",
    "        self.decoder = Decoder(num_layers=num_layers, d_model=d_model,\n",
    "                               num_heads=num_heads, dff=dff,\n",
    "                               target_vocab_size=target_vocab_size, rate=rate)\n",
    "\n",
    "        self.final_layer = tf.keras.layers.Dense(target_vocab_size)\n",
    "\n",
    "    def call(self, inputs, training):\n",
    "        # Keras models prefer if you pass all your inputs in the first argument\n",
    "        inp, tar = inputs\n",
    "\n",
    "        enc_padding_mask, look_ahead_mask, dec_padding_mask = self.create_masks(inp, tar)\n",
    "\n",
    "        enc_output = self.encoder(inp, training, enc_padding_mask)  # (batch_size, inp_seq_len, d_model)\n",
    "\n",
    "        # dec_output.shape == (batch_size, tar_seq_len, d_model)\n",
    "        dec_output, attention_weights = self.decoder(\n",
    "            tar, enc_output, training, look_ahead_mask, dec_padding_mask)\n",
    "\n",
    "        final_output = self.final_layer(dec_output)  # (batch_size, tar_seq_len, target_vocab_size)\n",
    "\n",
    "        return final_output, attention_weights\n",
    "\n",
    "    def create_masks(self, inp, tar):\n",
    "        # Encoder padding mask\n",
    "        enc_padding_mask = create_padding_mask(inp)\n",
    "\n",
    "        # Used in the 2nd attention block in the decoder.\n",
    "        # This padding mask is used to mask the encoder outputs.\n",
    "        dec_padding_mask = create_padding_mask(inp)\n",
    "\n",
    "        # Used in the 1st attention block in the decoder.\n",
    "        # It is used to pad and mask future tokens in the input received by\n",
    "        # the decoder.\n",
    "        look_ahead_mask = create_look_ahead_mask(tf.shape(tar)[1])\n",
    "        dec_target_padding_mask = create_padding_mask(tar)\n",
    "        look_ahead_mask = tf.maximum(dec_target_padding_mask, look_ahead_mask)\n",
    "\n",
    "        return enc_padding_mask, look_ahead_mask, dec_padding_mask"
   ]
  },
  {
   "cell_type": "code",
   "execution_count": 55,
   "metadata": {
    "execution": {
     "iopub.execute_input": "2022-03-29T12:09:38.518168Z",
     "iopub.status.busy": "2022-03-29T12:09:38.517967Z",
     "iopub.status.idle": "2022-03-29T12:09:38.751208Z",
     "shell.execute_reply": "2022-03-29T12:09:38.750455Z"
    },
    "id": "tJ4fbQcIkHW1"
   },
   "outputs": [
    {
     "data": {
      "text/plain": [
       "TensorShape([64, 36, 8000])"
      ]
     },
     "execution_count": 55,
     "metadata": {},
     "output_type": "execute_result"
    }
   ],
   "source": [
    "sample_transformer = Transformer(\n",
    "    num_layers=2, d_model=512, num_heads=8, dff=2048,\n",
    "    input_vocab_size=8500, target_vocab_size=8000)\n",
    "\n",
    "temp_input = tf.random.uniform((64, 38), dtype=tf.int64, minval=0, maxval=200)\n",
    "temp_target = tf.random.uniform((64, 36), dtype=tf.int64, minval=0, maxval=200)\n",
    "\n",
    "fn_out, _ = sample_transformer([temp_input, temp_target], training=False)\n",
    "\n",
    "fn_out.shape  # (batch_size, tar_seq_len, target_vocab_size)"
   ]
  },
  {
   "cell_type": "markdown",
   "metadata": {
    "id": "wsINyf1VEQLC"
   },
   "source": [
    "## Set hyperparameters"
   ]
  },
  {
   "cell_type": "markdown",
   "metadata": {
    "id": "zVjWCxFNcgbt"
   },
   "source": [
    "To keep this example small and relatively fast, the values for `num_layers, d_model, dff` have been reduced. \n",
    "\n",
    "The base model described in the [paper](https://arxiv.org/abs/1706.03762) used: `num_layers=6, d_model=512, dff=2048`."
   ]
  },
  {
   "cell_type": "code",
   "execution_count": 56,
   "metadata": {
    "execution": {
     "iopub.execute_input": "2022-03-29T12:09:38.755243Z",
     "iopub.status.busy": "2022-03-29T12:09:38.754744Z",
     "iopub.status.idle": "2022-03-29T12:09:38.758318Z",
     "shell.execute_reply": "2022-03-29T12:09:38.757621Z"
    },
    "id": "lnJn5SLA2ahP"
   },
   "outputs": [],
   "source": [
    "num_layers = 4\n",
    "d_model = 128\n",
    "dff = 512\n",
    "num_heads = 8\n",
    "dropout_rate = 0.1"
   ]
  },
  {
   "cell_type": "markdown",
   "metadata": {
    "id": "xYEGhEOtzn5W"
   },
   "source": [
    "## Optimizer"
   ]
  },
  {
   "cell_type": "markdown",
   "metadata": {
    "id": "GOmWW--yP3zx"
   },
   "source": [
    "Use the Adam optimizer with a custom learning rate scheduler according to the formula in the [paper](https://arxiv.org/abs/1706.03762).\n",
    "\n",
    "$$\\Large{lrate = d_{model}^{-0.5} * \\min(step{\\_}num^{-0.5}, step{\\_}num \\cdot warmup{\\_}steps^{-1.5})}$$\n"
   ]
  },
  {
   "cell_type": "code",
   "execution_count": 57,
   "metadata": {
    "execution": {
     "iopub.execute_input": "2022-03-29T12:09:38.761694Z",
     "iopub.status.busy": "2022-03-29T12:09:38.761206Z",
     "iopub.status.idle": "2022-03-29T12:09:38.766005Z",
     "shell.execute_reply": "2022-03-29T12:09:38.765398Z"
    },
    "id": "iYQdOO1axwEI"
   },
   "outputs": [],
   "source": [
    "class CustomSchedule(tf.keras.optimizers.schedules.LearningRateSchedule):\n",
    "    def __init__(self, d_model, warmup_steps=4000):\n",
    "        super(CustomSchedule, self).__init__()\n",
    "\n",
    "        self.d_model = d_model\n",
    "        self.d_model = tf.cast(self.d_model, tf.float32)\n",
    "\n",
    "        self.warmup_steps = warmup_steps\n",
    "\n",
    "    def __call__(self, step):\n",
    "        arg1 = tf.math.rsqrt(step)\n",
    "        arg2 = step * (self.warmup_steps ** -1.5)\n",
    "\n",
    "        return tf.math.rsqrt(self.d_model) * tf.math.minimum(arg1, arg2)"
   ]
  },
  {
   "cell_type": "code",
   "execution_count": 58,
   "metadata": {
    "execution": {
     "iopub.execute_input": "2022-03-29T12:09:38.769217Z",
     "iopub.status.busy": "2022-03-29T12:09:38.768733Z",
     "iopub.status.idle": "2022-03-29T12:09:38.772351Z",
     "shell.execute_reply": "2022-03-29T12:09:38.771846Z"
    },
    "id": "7r4scdulztRx"
   },
   "outputs": [],
   "source": [
    "learning_rate = CustomSchedule(d_model)\n",
    "\n",
    "optimizer = tf.keras.optimizers.Adam(learning_rate, beta_1=0.9, beta_2=0.98,\n",
    "                                     epsilon=1e-9)"
   ]
  },
  {
   "cell_type": "code",
   "execution_count": 59,
   "metadata": {
    "execution": {
     "iopub.execute_input": "2022-03-29T12:09:38.775121Z",
     "iopub.status.busy": "2022-03-29T12:09:38.774694Z",
     "iopub.status.idle": "2022-03-29T12:09:38.902415Z",
     "shell.execute_reply": "2022-03-29T12:09:38.901902Z"
    },
    "id": "f33ZCgvHpPdG"
   },
   "outputs": [
    {
     "data": {
      "text/plain": [
       "Text(0.5, 0, 'Train Step')"
      ]
     },
     "execution_count": 59,
     "metadata": {},
     "output_type": "execute_result"
    },
    {
     "data": {
      "image/png": "[encoded data removed]",
      "text/plain": [
       "<Figure size 432x288 with 1 Axes>"
      ]
     },
     "metadata": {
      "needs_background": "light"
     },
     "output_type": "display_data"
    }
   ],
   "source": [
    "temp_learning_rate_schedule = CustomSchedule(d_model)\n",
    "\n",
    "plt.plot(temp_learning_rate_schedule(tf.range(40000, dtype=tf.float32)))\n",
    "plt.ylabel('Learning Rate')\n",
    "plt.xlabel('Train Step')"
   ]
  },
  {
   "cell_type": "markdown",
   "metadata": {
    "id": "YgkDE7hzo8r5"
   },
   "source": [
    "## Loss and metrics"
   ]
  },
  {
   "cell_type": "markdown",
   "metadata": {
    "id": "oxGJtoDuYIHL"
   },
   "source": [
    "Since the target sequences are padded, it is important to apply a padding mask when calculating the loss."
   ]
  },
  {
   "cell_type": "code",
   "execution_count": 75,
   "metadata": {
    "execution": {
     "iopub.execute_input": "2022-03-29T12:09:38.908214Z",
     "iopub.status.busy": "2022-03-29T12:09:38.907644Z",
     "iopub.status.idle": "2022-03-29T12:09:38.911633Z",
     "shell.execute_reply": "2022-03-29T12:09:38.910771Z"
    },
    "id": "MlhsJMm0TW_B"
   },
   "outputs": [],
   "source": [
    "loss_object = tf.keras.losses.SparseCategoricalCrossentropy(\n",
    "    from_logits=True, reduction='none')"
   ]
  },
  {
   "cell_type": "code",
   "execution_count": 77,
   "metadata": {
    "execution": {
     "iopub.execute_input": "2022-03-29T12:09:38.915996Z",
     "iopub.status.busy": "2022-03-29T12:09:38.915481Z",
     "iopub.status.idle": "2022-03-29T12:09:38.921218Z",
     "shell.execute_reply": "2022-03-29T12:09:38.920589Z"
    },
    "id": "67oqVHiT0Eiu"
   },
   "outputs": [],
   "source": [
    "def loss_function(real, pred):\n",
    "    mask = tf.math.logical_not(tf.math.equal(real, 0))\n",
    "    loss_ = loss_object(real, pred)\n",
    "\n",
    "    mask = tf.cast(mask, dtype=loss_.dtype)\n",
    "    loss_ *= mask\n",
    "\n",
    "    return tf.reduce_sum(loss_)/tf.reduce_sum(mask)\n",
    "\n",
    "\n",
    "def accuracy_function(real, pred):\n",
    "    accuracies = tf.equal(real, tf.argmax(pred, axis=2))\n",
    "\n",
    "    mask = tf.math.logical_not(tf.math.equal(real, 0))\n",
    "    accuracies = tf.math.logical_and(mask, accuracies)\n",
    "\n",
    "    accuracies = tf.cast(accuracies, dtype=tf.float32)\n",
    "    mask = tf.cast(mask, dtype=tf.float32)\n",
    "    return tf.reduce_sum(accuracies)/tf.reduce_sum(mask)"
   ]
  },
  {
   "cell_type": "code",
   "execution_count": 78,
   "metadata": {
    "execution": {
     "iopub.execute_input": "2022-03-29T12:09:38.925596Z",
     "iopub.status.busy": "2022-03-29T12:09:38.925098Z",
     "iopub.status.idle": "2022-03-29T12:09:38.934630Z",
     "shell.execute_reply": "2022-03-29T12:09:38.934032Z"
    },
    "id": "phlyxMnm-Tpx"
   },
   "outputs": [],
   "source": [
    "train_loss = tf.keras.metrics.Mean(name='train_loss')\n",
    "train_accuracy = tf.keras.metrics.Mean(name='train_accuracy')"
   ]
  },
  {
   "cell_type": "markdown",
   "metadata": {
    "id": "aeHumfr7zmMa"
   },
   "source": [
    "## Training and checkpointing"
   ]
  },
  {
   "cell_type": "code",
   "execution_count": 90,
   "metadata": {
    "execution": {
     "iopub.execute_input": "2022-03-29T12:09:38.937637Z",
     "iopub.status.busy": "2022-03-29T12:09:38.937259Z",
     "iopub.status.idle": "2022-03-29T12:09:39.039764Z",
     "shell.execute_reply": "2022-03-29T12:09:39.039030Z"
    },
    "id": "UiysUa--4tOU"
   },
   "outputs": [],
   "source": [
    "transformer = Transformer(\n",
    "    num_layers=num_layers,\n",
    "    d_model=d_model,\n",
    "    num_heads=num_heads,\n",
    "    dff=dff,\n",
    "    input_vocab_size=tokenizers.pt.get_vocab_size().numpy(),\n",
    "    target_vocab_size=tokenizers.en.get_vocab_size().numpy(),\n",
    "    rate=dropout_rate)"
   ]
  },
  {
   "cell_type": "markdown",
   "metadata": {
    "id": "Fzuf06YZp66w"
   },
   "source": [
    "Create the checkpoint path and the checkpoint manager. This will be used to save checkpoints every `n` epochs."
   ]
  },
  {
   "cell_type": "code",
   "execution_count": 91,
   "metadata": {
    "execution": {
     "iopub.execute_input": "2022-03-29T12:09:39.043724Z",
     "iopub.status.busy": "2022-03-29T12:09:39.043082Z",
     "iopub.status.idle": "2022-03-29T12:09:39.047664Z",
     "shell.execute_reply": "2022-03-29T12:09:39.046971Z"
    },
    "id": "hNhuYfllndLZ"
   },
   "outputs": [],
   "source": [
    "checkpoint_path = './checkpoints/train'\n",
    "\n",
    "ckpt = tf.train.Checkpoint(transformer=transformer,\n",
    "                           optimizer=optimizer)\n",
    "\n",
    "ckpt_manager = tf.train.CheckpointManager(ckpt, checkpoint_path, max_to_keep=5)\n",
    "\n",
    "# if a checkpoint exists, restore the latest checkpoint.\n",
    "if ckpt_manager.latest_checkpoint:\n",
    "    ckpt.restore(ckpt_manager.latest_checkpoint)\n",
    "    print('Latest checkpoint restored!!')"
   ]
  },
  {
   "cell_type": "markdown",
   "metadata": {
    "id": "0Di_Yaa1gf9r"
   },
   "source": [
    "The target is divided into tar_inp and tar_real. tar_inp is passed as an input to the decoder. `tar_real` is that same input shifted by 1: At each location in `tar_input`, `tar_real` contains the  next token that should be predicted.\n",
    "\n",
    "For example, `sentence = 'SOS A lion in the jungle is sleeping EOS'` becomes:\n",
    "\n",
    "* `tar_inp =  'SOS A lion in the jungle is sleeping'`\n",
    "* `tar_real = 'A lion in the jungle is sleeping EOS'`\n",
    "\n",
    "A transformer is an auto-regressive model: it makes predictions one part at a time, and uses its output so far to decide what to do next.\n",
    "\n",
    "During training this example uses teacher-forcing (like in the [text generation tutorial](https://www.tensorflow.org/text/tutorials/text_generation)). Teacher forcing is passing the true output to the next time step regardless of what the model predicts at the current time step.\n",
    "\n",
    "As the model predicts each token, *self-attention* allows it to look at the previous tokens in the input sequence to better predict the next token.\n",
    "\n",
    "To prevent the model from peeking at the expected output the model uses a look-ahead mask."
   ]
  },
  {
   "cell_type": "code",
   "execution_count": 92,
   "metadata": {
    "execution": {
     "iopub.execute_input": "2022-03-29T12:09:39.050990Z",
     "iopub.status.busy": "2022-03-29T12:09:39.050401Z",
     "iopub.status.idle": "2022-03-29T12:09:39.053540Z",
     "shell.execute_reply": "2022-03-29T12:09:39.052952Z"
    },
    "id": "LKpoA6q1sJFj"
   },
   "outputs": [],
   "source": [
    "EPOCHS = 20"
   ]
  },
  {
   "cell_type": "code",
   "execution_count": 93,
   "metadata": {
    "execution": {
     "iopub.execute_input": "2022-03-29T12:09:39.056323Z",
     "iopub.status.busy": "2022-03-29T12:09:39.055881Z",
     "iopub.status.idle": "2022-03-29T12:09:39.061458Z",
     "shell.execute_reply": "2022-03-29T12:09:39.060851Z"
    },
    "id": "iJwmp9OE29oj"
   },
   "outputs": [],
   "source": [
    "# The @tf.function trace-compiles train_step into a TF graph for faster\n",
    "# execution. The function specializes to the precise shape of the argument\n",
    "# tensors. To avoid re-tracing due to the variable sequence lengths or variable\n",
    "# batch sizes (the last batch is smaller), use input_signature to specify\n",
    "# more generic shapes.\n",
    "\n",
    "train_step_signature = [\n",
    "    tf.TensorSpec(shape=(None, None), dtype=tf.int64),\n",
    "    tf.TensorSpec(shape=(None, None), dtype=tf.int64),\n",
    "]\n",
    "\n",
    "\n",
    "@tf.function(input_signature=train_step_signature)\n",
    "def train_step(inp, tar):\n",
    "    tar_inp = tar[:, :-1]\n",
    "    tar_real = tar[:, 1:]\n",
    "\n",
    "    with tf.GradientTape() as tape:\n",
    "        predictions, _ = transformer([inp, tar_inp],\n",
    "                                     training = True)\n",
    "        loss = loss_function(tar_real, predictions)\n",
    "\n",
    "    gradients = tape.gradient(loss, transformer.trainable_variables)\n",
    "    optimizer.apply_gradients(zip(gradients, transformer.trainable_variables))\n",
    "\n",
    "    train_loss(loss)\n",
    "    train_accuracy(accuracy_function(tar_real, predictions))"
   ]
  },
  {
   "cell_type": "markdown",
   "metadata": {
    "id": "qM2PDWGDJ_8V"
   },
   "source": [
    "Portuguese is used as the input language and English is the target language."
   ]
  },
  {
   "cell_type": "code",
   "execution_count": 94,
   "metadata": {
    "execution": {
     "iopub.execute_input": "2022-03-29T12:09:39.064392Z",
     "iopub.status.busy": "2022-03-29T12:09:39.063843Z",
     "iopub.status.idle": "2022-03-29T12:22:04.443678Z",
     "shell.execute_reply": "2022-03-29T12:22:04.443003Z"
    },
    "id": "bbvmaKNiznHZ"
   },
   "outputs": [
    {
     "name": "stdout",
     "output_type": "stream",
     "text": [
      "Epoch 1 Batch 0 Loss 8.8592 Accuracy 0.0000\n",
      "Epoch 1 Batch 50 Loss 6.7849 Accuracy 0.0422\n",
      "Epoch 1 Batch 100 Loss 6.5070 Accuracy 0.0506\n",
      "Epoch 1 Batch 150 Loss 6.4098 Accuracy 0.0542\n",
      "Epoch 1 Batch 200 Loss 6.3483 Accuracy 0.0599\n",
      "Epoch 1 Batch 250 Loss 6.2908 Accuracy 0.0685\n",
      "Epoch 1 Batch 300 Loss 6.2424 Accuracy 0.0750\n",
      "Epoch 1 Batch 350 Loss 6.2105 Accuracy 0.0789\n",
      "Epoch 1 Batch 400 Loss 6.1819 Accuracy 0.0818\n",
      "Epoch 1 Batch 450 Loss 6.1576 Accuracy 0.0839\n",
      "Epoch 1 Batch 500 Loss 6.1385 Accuracy 0.0858\n",
      "Epoch 1 Batch 550 Loss 6.1209 Accuracy 0.0875\n",
      "Epoch 1 Batch 600 Loss 6.1071 Accuracy 0.0891\n",
      "Epoch 1 Batch 650 Loss 6.0938 Accuracy 0.0906\n",
      "Epoch 1 Loss 6.0811 Accuracy 0.0920\n",
      "Time taken for 1 epoch: 67.83 secs\n",
      "\n",
      "Epoch 2 Batch 0 Loss 5.9471 Accuracy 0.1100\n",
      "Epoch 2 Batch 50 Loss 5.8843 Accuracy 0.1123\n",
      "Epoch 2 Batch 100 Loss 5.8773 Accuracy 0.1143\n",
      "Epoch 2 Batch 150 Loss 5.8798 Accuracy 0.1154\n",
      "Epoch 2 Batch 200 Loss 5.8706 Accuracy 0.1158\n",
      "Epoch 2 Batch 250 Loss 5.8679 Accuracy 0.1163\n",
      "Epoch 2 Batch 300 Loss 5.8579 Accuracy 0.1171\n",
      "Epoch 2 Batch 350 Loss 5.8518 Accuracy 0.1182\n",
      "Epoch 2 Batch 400 Loss 5.8460 Accuracy 0.1186\n",
      "Epoch 2 Batch 450 Loss 5.8404 Accuracy 0.1195\n",
      "Epoch 2 Batch 500 Loss 5.8361 Accuracy 0.1201\n",
      "Epoch 2 Batch 550 Loss 5.8310 Accuracy 0.1208\n",
      "Epoch 2 Batch 600 Loss 5.8278 Accuracy 0.1213\n",
      "Epoch 2 Batch 650 Loss 5.8246 Accuracy 0.1218\n",
      "Epoch 2 Loss 5.8213 Accuracy 0.1224\n",
      "Time taken for 1 epoch: 59.50 secs\n",
      "\n",
      "Epoch 3 Batch 0 Loss 5.8510 Accuracy 0.1144\n",
      "Epoch 3 Batch 50 Loss 5.7565 Accuracy 0.1324\n",
      "Epoch 3 Batch 100 Loss 5.7732 Accuracy 0.1299\n",
      "Epoch 3 Batch 150 Loss 5.7675 Accuracy 0.1300\n",
      "Epoch 3 Batch 200 Loss 5.7659 Accuracy 0.1302\n",
      "Epoch 3 Batch 250 Loss 5.7676 Accuracy 0.1304\n",
      "Epoch 3 Batch 300 Loss 5.7629 Accuracy 0.1310\n",
      "Epoch 3 Batch 350 Loss 5.7614 Accuracy 0.1314\n",
      "Epoch 3 Batch 400 Loss 5.7588 Accuracy 0.1318\n",
      "Epoch 3 Batch 450 Loss 5.7601 Accuracy 0.1319\n",
      "Epoch 3 Batch 500 Loss 5.7582 Accuracy 0.1321\n",
      "Epoch 3 Batch 550 Loss 5.7582 Accuracy 0.1323\n",
      "Epoch 3 Batch 600 Loss 5.7576 Accuracy 0.1323\n",
      "Epoch 3 Batch 650 Loss 5.7652 Accuracy 0.1298\n",
      "Epoch 3 Loss 5.7707 Accuracy 0.1280\n",
      "Time taken for 1 epoch: 59.32 secs\n",
      "\n",
      "Epoch 4 Batch 0 Loss 5.8724 Accuracy 0.0874\n",
      "Epoch 4 Batch 50 Loss 5.8626 Accuracy 0.1001\n",
      "Epoch 4 Batch 100 Loss 5.8456 Accuracy 0.1001\n",
      "Epoch 4 Batch 150 Loss 5.8377 Accuracy 0.1007\n",
      "Epoch 4 Batch 200 Loss 5.8294 Accuracy 0.1012\n",
      "Epoch 4 Batch 250 Loss 5.8281 Accuracy 0.1036\n",
      "Epoch 4 Batch 300 Loss 5.8108 Accuracy 0.1092\n",
      "Epoch 4 Batch 350 Loss 5.7992 Accuracy 0.1129\n",
      "Epoch 4 Batch 400 Loss 5.7864 Accuracy 0.1160\n",
      "Epoch 4 Batch 450 Loss 5.7734 Accuracy 0.1187\n",
      "Epoch 4 Batch 500 Loss 5.7665 Accuracy 0.1209\n",
      "Epoch 4 Batch 550 Loss 5.7606 Accuracy 0.1227\n",
      "Epoch 4 Batch 600 Loss 5.7555 Accuracy 0.1241\n",
      "Epoch 4 Batch 650 Loss 5.7492 Accuracy 0.1256\n",
      "Epoch 4 Loss 5.7433 Accuracy 0.1268\n",
      "Time taken for 1 epoch: 59.49 secs\n",
      "\n",
      "Epoch 5 Batch 0 Loss 5.5597 Accuracy 0.1448\n",
      "Epoch 5 Batch 50 Loss 5.6580 Accuracy 0.1431\n",
      "Epoch 5 Batch 100 Loss 5.6563 Accuracy 0.1425\n",
      "Epoch 5 Batch 150 Loss 5.6485 Accuracy 0.1430\n",
      "Epoch 5 Batch 200 Loss 5.6495 Accuracy 0.1427\n",
      "Epoch 5 Batch 250 Loss 5.6782 Accuracy 0.1380\n",
      "Epoch 5 Batch 300 Loss 5.6831 Accuracy 0.1370\n",
      "Epoch 5 Batch 350 Loss 5.6836 Accuracy 0.1373\n",
      "Epoch 5 Batch 400 Loss 5.6818 Accuracy 0.1377\n",
      "Epoch 5 Batch 450 Loss 5.6751 Accuracy 0.1386\n",
      "Epoch 5 Batch 500 Loss 5.6693 Accuracy 0.1393\n",
      "Epoch 5 Batch 550 Loss 5.6662 Accuracy 0.1399\n",
      "Epoch 5 Batch 600 Loss 5.6656 Accuracy 0.1403\n",
      "Epoch 5 Batch 650 Loss 5.6636 Accuracy 0.1408\n",
      "Epoch 5 Batch 700 Loss 5.6628 Accuracy 0.1409\n",
      "Saving checkpoint for epoch 5 at ./checkpoints/train/ckpt-1\n",
      "Epoch 5 Loss 5.6625 Accuracy 0.1409\n",
      "Time taken for 1 epoch: 60.25 secs\n",
      "\n",
      "Epoch 6 Batch 0 Loss 5.6923 Accuracy 0.1315\n",
      "Epoch 6 Batch 50 Loss 5.6232 Accuracy 0.1445\n",
      "Epoch 6 Batch 100 Loss 5.6125 Accuracy 0.1450\n",
      "Epoch 6 Batch 150 Loss 5.5992 Accuracy 0.1464\n",
      "Epoch 6 Batch 200 Loss 5.6055 Accuracy 0.1459\n",
      "Epoch 6 Batch 250 Loss 5.6064 Accuracy 0.1468\n",
      "Epoch 6 Batch 300 Loss 5.6030 Accuracy 0.1473\n",
      "Epoch 6 Batch 350 Loss 5.6011 Accuracy 0.1477\n",
      "Epoch 6 Batch 400 Loss 5.6032 Accuracy 0.1477\n",
      "Epoch 6 Batch 450 Loss 5.6046 Accuracy 0.1477\n",
      "Epoch 6 Batch 500 Loss 5.6020 Accuracy 0.1481\n",
      "Epoch 6 Batch 550 Loss 5.6022 Accuracy 0.1486\n",
      "Epoch 6 Batch 600 Loss 5.6009 Accuracy 0.1487\n",
      "Epoch 6 Batch 650 Loss 5.6000 Accuracy 0.1489\n",
      "Epoch 6 Batch 700 Loss 5.5972 Accuracy 0.1494\n",
      "Epoch 6 Loss 5.5975 Accuracy 0.1493\n",
      "Time taken for 1 epoch: 59.99 secs\n",
      "\n",
      "Epoch 7 Batch 0 Loss 5.5562 Accuracy 0.1544\n",
      "Epoch 7 Batch 50 Loss 5.5229 Accuracy 0.1567\n",
      "Epoch 7 Batch 100 Loss 5.5216 Accuracy 0.1570\n",
      "Epoch 7 Batch 150 Loss 5.5397 Accuracy 0.1556\n",
      "Epoch 7 Batch 200 Loss 5.5357 Accuracy 0.1561\n",
      "Epoch 7 Batch 250 Loss 5.5352 Accuracy 0.1563\n",
      "Epoch 7 Batch 300 Loss 5.5350 Accuracy 0.1565\n",
      "Epoch 7 Batch 350 Loss 5.5327 Accuracy 0.1566\n",
      "Epoch 7 Batch 400 Loss 5.5317 Accuracy 0.1570\n",
      "Epoch 7 Batch 450 Loss 5.5313 Accuracy 0.1572\n",
      "Epoch 7 Batch 500 Loss 5.5287 Accuracy 0.1577\n",
      "Epoch 7 Batch 550 Loss 5.5264 Accuracy 0.1578\n",
      "Epoch 7 Batch 600 Loss 5.5245 Accuracy 0.1581\n",
      "Epoch 7 Batch 650 Loss 5.5222 Accuracy 0.1586\n",
      "Epoch 7 Loss 5.5203 Accuracy 0.1586\n",
      "Time taken for 1 epoch: 59.82 secs\n",
      "\n",
      "Epoch 8 Batch 0 Loss 5.4541 Accuracy 0.1739\n",
      "Epoch 8 Batch 50 Loss 5.4503 Accuracy 0.1617\n",
      "Epoch 8 Batch 100 Loss 5.4566 Accuracy 0.1631\n",
      "Epoch 8 Batch 150 Loss 5.4480 Accuracy 0.1644\n",
      "Epoch 8 Batch 200 Loss 5.4442 Accuracy 0.1649\n",
      "Epoch 8 Batch 250 Loss 5.4423 Accuracy 0.1654\n",
      "Epoch 8 Batch 300 Loss 5.4396 Accuracy 0.1661\n",
      "Epoch 8 Batch 350 Loss 5.4368 Accuracy 0.1671\n",
      "Epoch 8 Batch 400 Loss 5.4262 Accuracy 0.1690\n",
      "Epoch 8 Batch 450 Loss 5.4144 Accuracy 0.1706\n",
      "Epoch 8 Batch 500 Loss 5.4069 Accuracy 0.1720\n",
      "Epoch 8 Batch 550 Loss 5.3945 Accuracy 0.1741\n",
      "Epoch 8 Batch 600 Loss 5.3829 Accuracy 0.1760\n",
      "Epoch 8 Batch 650 Loss 5.3700 Accuracy 0.1779\n",
      "Epoch 8 Batch 700 Loss 5.3586 Accuracy 0.1794\n",
      "Epoch 8 Loss 5.3586 Accuracy 0.1794\n",
      "Time taken for 1 epoch: 59.48 secs\n",
      "\n",
      "Epoch 9 Batch 0 Loss 5.1753 Accuracy 0.2093\n",
      "Epoch 9 Batch 50 Loss 5.1805 Accuracy 0.2036\n",
      "Epoch 9 Batch 100 Loss 5.1733 Accuracy 0.2033\n",
      "Epoch 9 Batch 150 Loss 5.1525 Accuracy 0.2052\n",
      "Epoch 9 Batch 200 Loss 5.1386 Accuracy 0.2062\n",
      "Epoch 9 Batch 250 Loss 5.1257 Accuracy 0.2070\n",
      "Epoch 9 Batch 300 Loss 5.1166 Accuracy 0.2075\n",
      "Epoch 9 Batch 350 Loss 5.1120 Accuracy 0.2080\n",
      "Epoch 9 Batch 400 Loss 5.1024 Accuracy 0.2084\n",
      "Epoch 9 Batch 450 Loss 5.0897 Accuracy 0.2090\n",
      "Epoch 9 Batch 500 Loss 5.0805 Accuracy 0.2095\n",
      "Epoch 9 Batch 550 Loss 5.0732 Accuracy 0.2098\n",
      "Epoch 9 Batch 600 Loss 5.0650 Accuracy 0.2102\n",
      "Epoch 9 Batch 650 Loss 5.0574 Accuracy 0.2107\n",
      "Epoch 9 Batch 700 Loss 5.0505 Accuracy 0.2111\n",
      "Epoch 9 Loss 5.0497 Accuracy 0.2112\n",
      "Time taken for 1 epoch: 60.11 secs\n",
      "\n",
      "Epoch 10 Batch 0 Loss 4.8400 Accuracy 0.2202\n",
      "Epoch 10 Batch 50 Loss 4.9290 Accuracy 0.2175\n",
      "Epoch 10 Batch 100 Loss 4.9032 Accuracy 0.2193\n",
      "Epoch 10 Batch 150 Loss 4.9015 Accuracy 0.2198\n",
      "Epoch 10 Batch 200 Loss 4.8915 Accuracy 0.2208\n",
      "Epoch 10 Batch 250 Loss 4.8941 Accuracy 0.2207\n",
      "Epoch 10 Batch 300 Loss 4.8899 Accuracy 0.2212\n",
      "Epoch 10 Batch 350 Loss 4.8847 Accuracy 0.2217\n",
      "Epoch 10 Batch 400 Loss 4.8830 Accuracy 0.2222\n",
      "Epoch 10 Batch 450 Loss 4.8786 Accuracy 0.2225\n",
      "Epoch 10 Batch 500 Loss 4.8713 Accuracy 0.2231\n",
      "Epoch 10 Batch 550 Loss 4.8672 Accuracy 0.2235\n",
      "Epoch 10 Batch 600 Loss 4.8639 Accuracy 0.2238\n",
      "Epoch 10 Batch 650 Loss 4.8612 Accuracy 0.2241\n",
      "Saving checkpoint for epoch 10 at ./checkpoints/train/ckpt-2\n",
      "Epoch 10 Loss 4.8611 Accuracy 0.2241\n",
      "Time taken for 1 epoch: 59.92 secs\n",
      "\n",
      "Epoch 11 Batch 0 Loss 4.7513 Accuracy 0.2174\n",
      "Epoch 11 Batch 50 Loss 4.7774 Accuracy 0.2309\n",
      "Epoch 11 Batch 100 Loss 4.7697 Accuracy 0.2316\n",
      "Epoch 11 Batch 150 Loss 4.7747 Accuracy 0.2315\n",
      "Epoch 11 Batch 200 Loss 4.7741 Accuracy 0.2318\n",
      "Epoch 11 Batch 250 Loss 4.7713 Accuracy 0.2323\n",
      "Epoch 11 Batch 300 Loss 4.7706 Accuracy 0.2325\n",
      "Epoch 11 Batch 350 Loss 4.7672 Accuracy 0.2326\n",
      "Epoch 11 Batch 400 Loss 4.7686 Accuracy 0.2321\n",
      "Epoch 11 Batch 450 Loss 4.7663 Accuracy 0.2323\n",
      "Epoch 11 Batch 500 Loss 4.7653 Accuracy 0.2324\n",
      "Epoch 11 Batch 550 Loss 4.7644 Accuracy 0.2324\n",
      "Epoch 11 Batch 600 Loss 4.7633 Accuracy 0.2325\n",
      "Epoch 11 Batch 650 Loss 4.7615 Accuracy 0.2327\n",
      "Epoch 11 Batch 700 Loss 4.7597 Accuracy 0.2330\n",
      "Epoch 11 Loss 4.7597 Accuracy 0.2330\n",
      "Time taken for 1 epoch: 59.68 secs\n",
      "\n"
     ]
    },
    {
     "name": "stdout",
     "output_type": "stream",
     "text": [
      "Epoch 12 Batch 0 Loss 4.5516 Accuracy 0.2506\n",
      "Epoch 12 Batch 50 Loss 4.6738 Accuracy 0.2386\n",
      "Epoch 12 Batch 100 Loss 4.6903 Accuracy 0.2373\n",
      "Epoch 12 Batch 150 Loss 4.6928 Accuracy 0.2374\n",
      "Epoch 12 Batch 200 Loss 4.6928 Accuracy 0.2375\n",
      "Epoch 12 Batch 250 Loss 4.6918 Accuracy 0.2375\n",
      "Epoch 12 Batch 300 Loss 4.6944 Accuracy 0.2371\n",
      "Epoch 12 Batch 350 Loss 4.6908 Accuracy 0.2373\n",
      "Epoch 12 Batch 400 Loss 4.6910 Accuracy 0.2371\n",
      "Epoch 12 Batch 450 Loss 4.6904 Accuracy 0.2371\n",
      "Epoch 12 Batch 500 Loss 4.6916 Accuracy 0.2372\n",
      "Epoch 12 Batch 550 Loss 4.6898 Accuracy 0.2376\n",
      "Epoch 12 Batch 600 Loss 4.6885 Accuracy 0.2380\n",
      "Epoch 12 Batch 650 Loss 4.6869 Accuracy 0.2384\n",
      "Epoch 12 Batch 700 Loss 4.6848 Accuracy 0.2386\n",
      "Epoch 12 Loss 4.6852 Accuracy 0.2386\n",
      "Time taken for 1 epoch: 60.01 secs\n",
      "\n",
      "Epoch 13 Batch 0 Loss 4.6854 Accuracy 0.2287\n",
      "Epoch 13 Batch 50 Loss 4.6251 Accuracy 0.2436\n",
      "Epoch 13 Batch 100 Loss 4.6112 Accuracy 0.2459\n",
      "Epoch 13 Batch 150 Loss 4.6161 Accuracy 0.2449\n",
      "Epoch 13 Batch 200 Loss 4.6155 Accuracy 0.2454\n",
      "Epoch 13 Batch 250 Loss 4.6207 Accuracy 0.2452\n",
      "Epoch 13 Batch 300 Loss 4.6171 Accuracy 0.2454\n",
      "Epoch 13 Batch 350 Loss 4.6173 Accuracy 0.2456\n",
      "Epoch 13 Batch 400 Loss 4.6170 Accuracy 0.2455\n",
      "Epoch 13 Batch 450 Loss 4.6172 Accuracy 0.2454\n",
      "Epoch 13 Batch 500 Loss 4.6167 Accuracy 0.2456\n",
      "Epoch 13 Batch 550 Loss 4.6152 Accuracy 0.2457\n",
      "Epoch 13 Batch 600 Loss 4.6138 Accuracy 0.2461\n",
      "Epoch 13 Batch 650 Loss 4.6121 Accuracy 0.2465\n",
      "Epoch 13 Batch 700 Loss 4.6126 Accuracy 0.2465\n",
      "Epoch 13 Loss 4.6126 Accuracy 0.2465\n",
      "Time taken for 1 epoch: 59.44 secs\n",
      "\n",
      "Epoch 14 Batch 0 Loss 4.5416 Accuracy 0.2676\n",
      "Epoch 14 Batch 50 Loss 4.5556 Accuracy 0.2513\n",
      "Epoch 14 Batch 100 Loss 4.5637 Accuracy 0.2513\n",
      "Epoch 14 Batch 150 Loss 4.5599 Accuracy 0.2515\n",
      "Epoch 14 Batch 200 Loss 4.5607 Accuracy 0.2515\n",
      "Epoch 14 Batch 250 Loss 4.5561 Accuracy 0.2519\n",
      "Epoch 14 Batch 300 Loss 4.5579 Accuracy 0.2515\n",
      "Epoch 14 Batch 350 Loss 4.5555 Accuracy 0.2519\n",
      "Epoch 14 Batch 400 Loss 4.5519 Accuracy 0.2524\n",
      "Epoch 14 Batch 450 Loss 4.5503 Accuracy 0.2529\n",
      "Epoch 14 Batch 500 Loss 4.5508 Accuracy 0.2529\n",
      "Epoch 14 Batch 550 Loss 4.5491 Accuracy 0.2533\n",
      "Epoch 14 Batch 600 Loss 4.5467 Accuracy 0.2538\n",
      "Epoch 14 Batch 650 Loss 4.5450 Accuracy 0.2542\n",
      "Epoch 14 Loss 4.5438 Accuracy 0.2545\n",
      "Time taken for 1 epoch: 59.50 secs\n",
      "\n",
      "Epoch 15 Batch 0 Loss 4.4935 Accuracy 0.2657\n",
      "Epoch 15 Batch 50 Loss 4.4828 Accuracy 0.2593\n",
      "Epoch 15 Batch 100 Loss 4.4742 Accuracy 0.2598\n",
      "Epoch 15 Batch 150 Loss 4.4683 Accuracy 0.2618\n",
      "Epoch 15 Batch 200 Loss 4.4719 Accuracy 0.2613\n",
      "Epoch 15 Batch 250 Loss 4.4746 Accuracy 0.2610\n",
      "Epoch 15 Batch 300 Loss 4.4742 Accuracy 0.2614\n",
      "Epoch 15 Batch 350 Loss 4.4745 Accuracy 0.2614\n",
      "Epoch 15 Batch 400 Loss 4.4716 Accuracy 0.2622\n",
      "Epoch 15 Batch 450 Loss 4.4735 Accuracy 0.2622\n",
      "Epoch 15 Batch 500 Loss 4.4718 Accuracy 0.2622\n",
      "Epoch 15 Batch 550 Loss 4.4678 Accuracy 0.2628\n",
      "Epoch 15 Batch 600 Loss 4.4664 Accuracy 0.2630\n",
      "Epoch 15 Batch 650 Loss 4.4645 Accuracy 0.2633\n",
      "Saving checkpoint for epoch 15 at ./checkpoints/train/ckpt-3\n",
      "Epoch 15 Loss 4.4615 Accuracy 0.2638\n",
      "Time taken for 1 epoch: 60.10 secs\n",
      "\n",
      "Epoch 16 Batch 0 Loss 4.1991 Accuracy 0.2966\n",
      "Epoch 16 Batch 50 Loss 4.3884 Accuracy 0.2706\n",
      "Epoch 16 Batch 100 Loss 4.3990 Accuracy 0.2690\n",
      "Epoch 16 Batch 150 Loss 4.3917 Accuracy 0.2700\n",
      "Epoch 16 Batch 200 Loss 4.3898 Accuracy 0.2708\n",
      "Epoch 16 Batch 250 Loss 4.3905 Accuracy 0.2709\n",
      "Epoch 16 Batch 300 Loss 4.3857 Accuracy 0.2714\n",
      "Epoch 16 Batch 350 Loss 4.3864 Accuracy 0.2717\n",
      "Epoch 16 Batch 400 Loss 4.3856 Accuracy 0.2721\n",
      "Epoch 16 Batch 450 Loss 4.3851 Accuracy 0.2724\n",
      "Epoch 16 Batch 500 Loss 4.3827 Accuracy 0.2726\n",
      "Epoch 16 Batch 550 Loss 4.3802 Accuracy 0.2727\n",
      "Epoch 16 Batch 600 Loss 4.3779 Accuracy 0.2732\n",
      "Epoch 16 Batch 650 Loss 4.3765 Accuracy 0.2735\n",
      "Epoch 16 Batch 700 Loss 4.3767 Accuracy 0.2737\n",
      "Epoch 16 Loss 4.3762 Accuracy 0.2738\n",
      "Time taken for 1 epoch: 59.99 secs\n",
      "\n",
      "Epoch 17 Batch 0 Loss 4.3025 Accuracy 0.2721\n",
      "Epoch 17 Batch 50 Loss 4.3168 Accuracy 0.2798\n",
      "Epoch 17 Batch 100 Loss 4.3116 Accuracy 0.2794\n",
      "Epoch 17 Batch 150 Loss 4.3135 Accuracy 0.2794\n",
      "Epoch 17 Batch 200 Loss 4.3173 Accuracy 0.2787\n",
      "Epoch 17 Batch 250 Loss 4.3085 Accuracy 0.2799\n",
      "Epoch 17 Batch 300 Loss 4.3046 Accuracy 0.2804\n",
      "Epoch 17 Batch 350 Loss 4.3055 Accuracy 0.2804\n",
      "Epoch 17 Batch 400 Loss 4.3018 Accuracy 0.2809\n",
      "Epoch 17 Batch 450 Loss 4.2998 Accuracy 0.2813\n",
      "Epoch 17 Batch 500 Loss 4.2979 Accuracy 0.2818\n",
      "Epoch 17 Batch 550 Loss 4.2980 Accuracy 0.2819\n",
      "Epoch 17 Batch 600 Loss 4.2949 Accuracy 0.2826\n",
      "Epoch 17 Batch 650 Loss 4.2934 Accuracy 0.2829\n",
      "Epoch 17 Loss 4.2917 Accuracy 0.2833\n",
      "Time taken for 1 epoch: 59.54 secs\n",
      "\n",
      "Epoch 18 Batch 0 Loss 4.2078 Accuracy 0.2793\n",
      "Epoch 18 Batch 50 Loss 4.2437 Accuracy 0.2893\n",
      "Epoch 18 Batch 100 Loss 4.2340 Accuracy 0.2892\n",
      "Epoch 18 Batch 150 Loss 4.2283 Accuracy 0.2897\n",
      "Epoch 18 Batch 200 Loss 4.2274 Accuracy 0.2898\n",
      "Epoch 18 Batch 250 Loss 4.2214 Accuracy 0.2902\n",
      "Epoch 18 Batch 300 Loss 4.2205 Accuracy 0.2903\n",
      "Epoch 18 Batch 350 Loss 4.2208 Accuracy 0.2903\n",
      "Epoch 18 Batch 400 Loss 4.2195 Accuracy 0.2907\n",
      "Epoch 18 Batch 450 Loss 4.2204 Accuracy 0.2908\n",
      "Epoch 18 Batch 500 Loss 4.2197 Accuracy 0.2911\n",
      "Epoch 18 Batch 550 Loss 4.2155 Accuracy 0.2917\n",
      "Epoch 18 Batch 600 Loss 4.2154 Accuracy 0.2918\n",
      "Epoch 18 Batch 650 Loss 4.2134 Accuracy 0.2922\n",
      "Epoch 18 Loss 4.2143 Accuracy 0.2920\n",
      "Time taken for 1 epoch: 59.63 secs\n",
      "\n",
      "Epoch 19 Batch 0 Loss 4.3386 Accuracy 0.2825\n",
      "Epoch 19 Batch 50 Loss 4.1668 Accuracy 0.2974\n",
      "Epoch 19 Batch 100 Loss 4.1511 Accuracy 0.2979\n",
      "Epoch 19 Batch 150 Loss 4.1457 Accuracy 0.2980\n",
      "Epoch 19 Batch 200 Loss 4.1499 Accuracy 0.2977\n",
      "Epoch 19 Batch 250 Loss 4.1452 Accuracy 0.2985\n",
      "Epoch 19 Batch 300 Loss 4.1492 Accuracy 0.2982\n",
      "Epoch 19 Batch 350 Loss 4.1500 Accuracy 0.2984\n",
      "Epoch 19 Batch 400 Loss 4.1466 Accuracy 0.2989\n",
      "Epoch 19 Batch 450 Loss 4.1447 Accuracy 0.2992\n",
      "Epoch 19 Batch 500 Loss 4.1449 Accuracy 0.2991\n",
      "Epoch 19 Batch 550 Loss 4.1425 Accuracy 0.2994\n",
      "Epoch 19 Batch 600 Loss 4.1423 Accuracy 0.2997\n",
      "Epoch 19 Batch 650 Loss 4.1404 Accuracy 0.3000\n",
      "Epoch 19 Batch 700 Loss 4.1402 Accuracy 0.3002\n",
      "Epoch 19 Loss 4.1402 Accuracy 0.3002\n",
      "Time taken for 1 epoch: 59.84 secs\n",
      "\n",
      "Epoch 20 Batch 0 Loss 4.3059 Accuracy 0.2782\n",
      "Epoch 20 Batch 50 Loss 4.0629 Accuracy 0.3063\n",
      "Epoch 20 Batch 100 Loss 4.0713 Accuracy 0.3067\n",
      "Epoch 20 Batch 150 Loss 4.0673 Accuracy 0.3070\n",
      "Epoch 20 Batch 200 Loss 4.0693 Accuracy 0.3070\n",
      "Epoch 20 Batch 250 Loss 4.0693 Accuracy 0.3069\n",
      "Epoch 20 Batch 300 Loss 4.0702 Accuracy 0.3068\n",
      "Epoch 20 Batch 350 Loss 4.0688 Accuracy 0.3070\n",
      "Epoch 20 Batch 400 Loss 4.0699 Accuracy 0.3070\n",
      "Epoch 20 Batch 450 Loss 4.0683 Accuracy 0.3073\n",
      "Epoch 20 Batch 500 Loss 4.0655 Accuracy 0.3079\n",
      "Epoch 20 Batch 550 Loss 4.0652 Accuracy 0.3080\n",
      "Epoch 20 Batch 600 Loss 4.0619 Accuracy 0.3084\n",
      "Epoch 20 Batch 650 Loss 4.0618 Accuracy 0.3085\n",
      "Epoch 20 Batch 700 Loss 4.0617 Accuracy 0.3087\n",
      "Saving checkpoint for epoch 20 at ./checkpoints/train/ckpt-4\n",
      "Epoch 20 Loss 4.0614 Accuracy 0.3087\n",
      "Time taken for 1 epoch: 60.41 secs\n",
      "\n"
     ]
    }
   ],
   "source": [
    "for epoch in range(EPOCHS):\n",
    "    start = time.time()\n",
    "\n",
    "    train_loss.reset_states()\n",
    "    train_accuracy.reset_states()\n",
    "\n",
    "    # inp -> portuguese, tar -> english\n",
    "    for batch, (inp, tar) in enumerate(train_batches):\n",
    "        train_step(inp, tar)\n",
    "\n",
    "        if batch % 50 == 0:\n",
    "            print(f'Epoch {epoch + 1} Batch {batch} Loss {train_loss.result():.4f} Accuracy {train_accuracy.result():.4f}')\n",
    "\n",
    "    if (epoch + 1) % 5 == 0:\n",
    "        ckpt_save_path = ckpt_manager.save()\n",
    "        print(f'Saving checkpoint for epoch {epoch+1} at {ckpt_save_path}')\n",
    "\n",
    "    print(f'Epoch {epoch + 1} Loss {train_loss.result():.4f} Accuracy {train_accuracy.result():.4f}')\n",
    "\n",
    "    print(f'Time taken for 1 epoch: {time.time() - start:.2f} secs\\n')"
   ]
  },
  {
   "cell_type": "markdown",
   "metadata": {
    "id": "QfcsSWswSdGV"
   },
   "source": [
    "### Run inference"
   ]
  },
  {
   "cell_type": "markdown",
   "metadata": {
    "id": "y6APsFrgImLW"
   },
   "source": [
    "The following steps are used for inference:\n",
    "\n",
    "* Encode the input sentence using the Portuguese tokenizer (`tokenizers.pt`). This is the encoder input.\n",
    "* The decoder input is initialized to the `[START]` token.\n",
    "* Calculate the padding masks and the look ahead masks.\n",
    "* The `decoder` then outputs the predictions by looking at the `encoder output` and its own output (self-attention).\n",
    "* Concatenate the predicted token to the decoder input and pass it to the decoder.\n",
    "* In this approach, the decoder predicts the next token based on the previous tokens it predicted."
   ]
  },
  {
   "cell_type": "markdown",
   "metadata": {
    "id": "-FQmQwtv9-kk"
   },
   "source": [
    "Note: The model is optimized for _efficient training_ and makes a next-token prediction for each token in the output simultaneously. This is redundant during inference, and only the last prediction is used.  This model can be made more efficient for inference if you only calculate the last prediction when running in inference mode (`training=False`)."
   ]
  },
  {
   "cell_type": "code",
   "execution_count": 95,
   "metadata": {
    "execution": {
     "iopub.execute_input": "2022-03-29T12:22:04.447726Z",
     "iopub.status.busy": "2022-03-29T12:22:04.447211Z",
     "iopub.status.idle": "2022-03-29T12:22:04.455899Z",
     "shell.execute_reply": "2022-03-29T12:22:04.455363Z"
    },
    "id": "5buvMlnvyrFm"
   },
   "outputs": [],
   "source": [
    "class Translator(tf.Module):\n",
    "    def __init__(self, tokenizers, transformer):\n",
    "        self.tokenizers = tokenizers\n",
    "        self.transformer = transformer\n",
    "\n",
    "    def __call__(self, sentence, max_length=MAX_TOKENS):\n",
    "        # input sentence is portuguese, hence adding the start and end token\n",
    "        assert isinstance(sentence, tf.Tensor)\n",
    "        if len(sentence.shape) == 0:\n",
    "            sentence = sentence[tf.newaxis]\n",
    "\n",
    "        sentence = self.tokenizers.pt.tokenize(sentence).to_tensor()\n",
    "\n",
    "        encoder_input = sentence\n",
    "\n",
    "        # As the output language is english, initialize the output with the\n",
    "        # english start token.\n",
    "        start_end = self.tokenizers.en.tokenize([''])[0]\n",
    "        start = start_end[0][tf.newaxis]\n",
    "        end = start_end[1][tf.newaxis]\n",
    "\n",
    "        # `tf.TensorArray` is required here (instead of a python list) so that the\n",
    "        # dynamic-loop can be traced by `tf.function`.\n",
    "        output_array = tf.TensorArray(dtype=tf.int64, size=0, dynamic_size=True)\n",
    "        output_array = output_array.write(0, start)\n",
    "\n",
    "        for i in tf.range(max_length):\n",
    "            output = tf.transpose(output_array.stack())\n",
    "            predictions, _ = self.transformer([encoder_input, output], training=False)\n",
    "\n",
    "            # select the last token from the seq_len dimension\n",
    "            predictions = predictions[:, -1:, :]  # (batch_size, 1, vocab_size)\n",
    "\n",
    "            predicted_id = tf.argmax(predictions, axis=-1)\n",
    "\n",
    "            # concatentate the predicted_id to the output which is given to the decoder\n",
    "            # as its input.\n",
    "            output_array = output_array.write(i+1, predicted_id[0])\n",
    "\n",
    "            if predicted_id == end:\n",
    "                break\n",
    "\n",
    "        output = tf.transpose(output_array.stack())\n",
    "        # output.shape (1, tokens)\n",
    "        text = tokenizers.en.detokenize(output)[0]  # shape: ()\n",
    "\n",
    "        tokens = tokenizers.en.lookup(output)[0]\n",
    "\n",
    "        # `tf.function` prevents us from using the attention_weights that were\n",
    "        # calculated on the last iteration of the loop. So recalculate them outside\n",
    "        # the loop.\n",
    "        _, attention_weights = self.transformer([encoder_input, output[:,:-1]], training=False)\n",
    "\n",
    "        return text, tokens, attention_weights"
   ]
  },
  {
   "cell_type": "markdown",
   "metadata": {
    "id": "FXGLLJulaq_-"
   },
   "source": [
    "Note: This function uses an unrolled loop, not a dynamic loop. It generates `MAX_TOKENS` on every call. Refer to [NMT with attention](nmt_with_attention.ipynb) for an example implementation with a dynamic loop, which can be much more efficient."
   ]
  },
  {
   "cell_type": "markdown",
   "metadata": {
    "id": "ofUWszmY3szZ"
   },
   "source": [
    "Create an instance of this `Translator` class, and try it out a few times:"
   ]
  },
  {
   "cell_type": "code",
   "execution_count": 96,
   "metadata": {
    "execution": {
     "iopub.execute_input": "2022-03-29T12:22:04.459136Z",
     "iopub.status.busy": "2022-03-29T12:22:04.458643Z",
     "iopub.status.idle": "2022-03-29T12:22:04.461536Z",
     "shell.execute_reply": "2022-03-29T12:22:04.461088Z"
    },
    "id": "4OR2D4EXeIRY"
   },
   "outputs": [],
   "source": [
    "translator = Translator(tokenizers, transformer)"
   ]
  },
  {
   "cell_type": "code",
   "execution_count": 97,
   "metadata": {
    "execution": {
     "iopub.execute_input": "2022-03-29T12:22:04.464439Z",
     "iopub.status.busy": "2022-03-29T12:22:04.464001Z",
     "iopub.status.idle": "2022-03-29T12:22:04.467297Z",
     "shell.execute_reply": "2022-03-29T12:22:04.466756Z"
    },
    "id": "lU2_yG_vBGza"
   },
   "outputs": [],
   "source": [
    "def print_translation(sentence, tokens, ground_truth):\n",
    "    print(f'{\"Input:\":15s}: {sentence}')\n",
    "    print(f'{\"Prediction\":15s}: {tokens.numpy().decode(\"utf-8\")}')\n",
    "    print(f'{\"Ground truth\":15s}: {ground_truth}')"
   ]
  },
  {
   "cell_type": "code",
   "execution_count": 98,
   "metadata": {
    "execution": {
     "iopub.execute_input": "2022-03-29T12:22:04.470105Z",
     "iopub.status.busy": "2022-03-29T12:22:04.469666Z",
     "iopub.status.idle": "2022-03-29T12:22:06.635513Z",
     "shell.execute_reply": "2022-03-29T12:22:06.634913Z"
    },
    "id": "YsxrAlvFG8SZ"
   },
   "outputs": [
    {
     "name": "stdout",
     "output_type": "stream",
     "text": [
      "Input:         : este é um problema que temos que resolver.\n",
      "Prediction     : this is a problem that we ' re doing something .\n",
      "Ground truth   : this is a problem we have to solve .\n"
     ]
    }
   ],
   "source": [
    "sentence = 'este é um problema que temos que resolver.'\n",
    "ground_truth = 'this is a problem we have to solve .'\n",
    "\n",
    "translated_text, translated_tokens, attention_weights = translator(\n",
    "    tf.constant(sentence))\n",
    "print_translation(sentence, translated_text, ground_truth)"
   ]
  },
  {
   "cell_type": "code",
   "execution_count": 99,
   "metadata": {
    "execution": {
     "iopub.execute_input": "2022-03-29T12:22:06.639188Z",
     "iopub.status.busy": "2022-03-29T12:22:06.638739Z",
     "iopub.status.idle": "2022-03-29T12:22:07.862097Z",
     "shell.execute_reply": "2022-03-29T12:22:07.861489Z"
    },
    "id": "7EH5y_aqI4t1"
   },
   "outputs": [
    {
     "name": "stdout",
     "output_type": "stream",
     "text": [
      "Input:         : os meus vizinhos ouviram sobre esta ideia.\n",
      "Prediction     : my stories i ' ve learned to be a story .\n",
      "Ground truth   : and my neighboring homes heard about this idea .\n"
     ]
    }
   ],
   "source": [
    "sentence = 'os meus vizinhos ouviram sobre esta ideia.'\n",
    "ground_truth = 'and my neighboring homes heard about this idea .'\n",
    "\n",
    "translated_text, translated_tokens, attention_weights = translator(\n",
    "    tf.constant(sentence))\n",
    "print_translation(sentence, translated_text, ground_truth)"
   ]
  },
  {
   "cell_type": "code",
   "execution_count": 100,
   "metadata": {
    "execution": {
     "iopub.execute_input": "2022-03-29T12:22:07.865212Z",
     "iopub.status.busy": "2022-03-29T12:22:07.864797Z",
     "iopub.status.idle": "2022-03-29T12:22:10.684053Z",
     "shell.execute_reply": "2022-03-29T12:22:10.683411Z"
    },
    "id": "J-hVCTSUMlkb"
   },
   "outputs": [
    {
     "name": "stdout",
     "output_type": "stream",
     "text": [
      "Input:         : vou então muito rapidamente partilhar convosco algumas histórias de algumas coisas mágicas que aconteceram.\n",
      "Prediction     : so i ' m going to show you one of you to share people who ' d like to show you to do to do to do to do to do to do to do .\n",
      "Ground truth   : so i'll just share with you some stories very quickly of some magical things that have happened.\n"
     ]
    }
   ],
   "source": [
    "sentence = 'vou então muito rapidamente partilhar convosco algumas histórias de algumas coisas mágicas que aconteceram.'\n",
    "ground_truth = \"so i'll just share with you some stories very quickly of some magical things that have happened.\"\n",
    "\n",
    "translated_text, translated_tokens, attention_weights = translator(\n",
    "    tf.constant(sentence))\n",
    "print_translation(sentence, translated_text, ground_truth)"
   ]
  },
  {
   "cell_type": "markdown",
   "metadata": {
    "id": "S3EQiFUC--Ds"
   },
   "source": [
    "## Attention plots"
   ]
  },
  {
   "cell_type": "markdown",
   "metadata": {
    "id": "hHV2pdXHGz-0"
   },
   "source": [
    "The `Translator` class returns a dictionary of attention maps you can use to visualize the internal working of the model:"
   ]
  },
  {
   "cell_type": "code",
   "execution_count": 101,
   "metadata": {
    "execution": {
     "iopub.execute_input": "2022-03-29T12:22:10.687521Z",
     "iopub.status.busy": "2022-03-29T12:22:10.687042Z",
     "iopub.status.idle": "2022-03-29T12:22:12.004256Z",
     "shell.execute_reply": "2022-03-29T12:22:12.003394Z"
    },
    "id": "t-kFyiOLH0xg"
   },
   "outputs": [
    {
     "name": "stdout",
     "output_type": "stream",
     "text": [
      "Input:         : este é o primeiro livro que eu fiz.\n",
      "Prediction     : this is the first story , i ' ve been going to talk .\n",
      "Ground truth   : this is the first book i've ever done.\n"
     ]
    }
   ],
   "source": [
    "sentence = 'este é o primeiro livro que eu fiz.'\n",
    "ground_truth = \"this is the first book i've ever done.\"\n",
    "\n",
    "translated_text, translated_tokens, attention_weights = translator(\n",
    "    tf.constant(sentence))\n",
    "print_translation(sentence, translated_text, ground_truth)"
   ]
  },
  {
   "cell_type": "code",
   "execution_count": 102,
   "metadata": {
    "execution": {
     "iopub.execute_input": "2022-03-29T12:22:12.007788Z",
     "iopub.status.busy": "2022-03-29T12:22:12.007229Z",
     "iopub.status.idle": "2022-03-29T12:22:12.012279Z",
     "shell.execute_reply": "2022-03-29T12:22:12.011434Z"
    },
    "id": "CcI4DxAK5EHY"
   },
   "outputs": [],
   "source": [
    "def plot_attention_head(in_tokens, translated_tokens, attention):\n",
    "    # The plot is of the attention when a token was generated.\n",
    "    # The model didn't generate `<START>` in the output. Skip it.\n",
    "    translated_tokens = translated_tokens[1:]\n",
    "\n",
    "    ax = plt.gca()\n",
    "    ax.matshow(attention)\n",
    "    ax.set_xticks(range(len(in_tokens)))\n",
    "    ax.set_yticks(range(len(translated_tokens)))\n",
    "\n",
    "    labels = [label.decode('utf-8') for label in in_tokens.numpy()]\n",
    "    ax.set_xticklabels(\n",
    "      labels, rotation=90)\n",
    "\n",
    "    labels = [label.decode('utf-8') for label in translated_tokens.numpy()]\n",
    "    ax.set_yticklabels(labels)"
   ]
  },
  {
   "cell_type": "code",
   "execution_count": 103,
   "metadata": {
    "execution": {
     "iopub.execute_input": "2022-03-29T12:22:12.015613Z",
     "iopub.status.busy": "2022-03-29T12:22:12.015185Z",
     "iopub.status.idle": "2022-03-29T12:22:12.020546Z",
     "shell.execute_reply": "2022-03-29T12:22:12.019892Z"
    },
    "id": "_KY4c2cryuxY"
   },
   "outputs": [
    {
     "data": {
      "text/plain": [
       "TensorShape([15, 11])"
      ]
     },
     "execution_count": 103,
     "metadata": {},
     "output_type": "execute_result"
    }
   ],
   "source": [
    "head = 0\n",
    "# shape: (batch=1, num_heads, seq_len_q, seq_len_k)\n",
    "attention_heads = tf.squeeze(\n",
    "  attention_weights['decoder_layer4_block2'], 0)\n",
    "attention = attention_heads[head]\n",
    "attention.shape"
   ]
  },
  {
   "cell_type": "code",
   "execution_count": 104,
   "metadata": {
    "execution": {
     "iopub.execute_input": "2022-03-29T12:22:12.023472Z",
     "iopub.status.busy": "2022-03-29T12:22:12.023305Z",
     "iopub.status.idle": "2022-03-29T12:22:12.044663Z",
     "shell.execute_reply": "2022-03-29T12:22:12.044185Z"
    },
    "id": "XdxmakWE6Om3"
   },
   "outputs": [
    {
     "data": {
      "text/plain": [
       "<tf.Tensor: shape=(11,), dtype=string, numpy=\n",
       "array([b'[START]', b'este', b'e', b'o', b'primeiro', b'livro', b'que',\n",
       "       b'eu', b'fiz', b'.', b'[END]'], dtype=object)>"
      ]
     },
     "execution_count": 104,
     "metadata": {},
     "output_type": "execute_result"
    }
   ],
   "source": [
    "in_tokens = tf.convert_to_tensor([sentence])\n",
    "in_tokens = tokenizers.pt.tokenize(in_tokens).to_tensor()\n",
    "in_tokens = tokenizers.pt.lookup(in_tokens)[0]\n",
    "in_tokens"
   ]
  },
  {
   "cell_type": "code",
   "execution_count": 105,
   "metadata": {
    "execution": {
     "iopub.execute_input": "2022-03-29T12:22:12.047784Z",
     "iopub.status.busy": "2022-03-29T12:22:12.047284Z",
     "iopub.status.idle": "2022-03-29T12:22:12.051226Z",
     "shell.execute_reply": "2022-03-29T12:22:12.050689Z"
    },
    "id": "hVdPSfecmrpj"
   },
   "outputs": [
    {
     "data": {
      "text/plain": [
       "<tf.Tensor: shape=(16,), dtype=string, numpy=\n",
       "array([b'[START]', b'this', b'is', b'the', b'first', b'story', b',', b'i',\n",
       "       b\"'\", b've', b'been', b'going', b'to', b'talk', b'.', b'[END]'],\n",
       "      dtype=object)>"
      ]
     },
     "execution_count": 105,
     "metadata": {},
     "output_type": "execute_result"
    }
   ],
   "source": [
    "translated_tokens"
   ]
  },
  {
   "cell_type": "code",
   "execution_count": 106,
   "metadata": {
    "execution": {
     "iopub.execute_input": "2022-03-29T12:22:12.054155Z",
     "iopub.status.busy": "2022-03-29T12:22:12.053703Z",
     "iopub.status.idle": "2022-03-29T12:22:12.192789Z",
     "shell.execute_reply": "2022-03-29T12:22:12.192163Z"
    },
    "id": "XtzyKCFamm4N"
   },
   "outputs": [
    {
     "data": {
      "image/png": "[encoded data removed]",
      "text/plain": [
       "<Figure size 432x288 with 1 Axes>"
      ]
     },
     "metadata": {
      "needs_background": "light"
     },
     "output_type": "display_data"
    }
   ],
   "source": [
    "plot_attention_head(in_tokens, translated_tokens, attention)"
   ]
  },
  {
   "cell_type": "code",
   "execution_count": 107,
   "metadata": {
    "execution": {
     "iopub.execute_input": "2022-03-29T12:22:12.198379Z",
     "iopub.status.busy": "2022-03-29T12:22:12.197539Z",
     "iopub.status.idle": "2022-03-29T12:22:12.202685Z",
     "shell.execute_reply": "2022-03-29T12:22:12.202066Z"
    },
    "id": "MBliB-PCzNK3"
   },
   "outputs": [],
   "source": [
    "def plot_attention_weights(sentence, translated_tokens, attention_heads):\n",
    "    in_tokens = tf.convert_to_tensor([sentence])\n",
    "    in_tokens = tokenizers.pt.tokenize(in_tokens).to_tensor()\n",
    "    in_tokens = tokenizers.pt.lookup(in_tokens)[0]\n",
    "    in_tokens\n",
    "\n",
    "    fig = plt.figure(figsize=(16, 8))\n",
    "\n",
    "    for h, head in enumerate(attention_heads):\n",
    "        ax = fig.add_subplot(2, 4, h+1)\n",
    "\n",
    "        plot_attention_head(in_tokens, translated_tokens, head)\n",
    "\n",
    "        ax.set_xlabel(f'Head {h+1}')\n",
    "\n",
    "    plt.tight_layout()\n",
    "    plt.show()"
   ]
  },
  {
   "cell_type": "code",
   "execution_count": 108,
   "metadata": {
    "execution": {
     "iopub.execute_input": "2022-03-29T12:22:12.205821Z",
     "iopub.status.busy": "2022-03-29T12:22:12.205306Z",
     "iopub.status.idle": "2022-03-29T12:22:13.322326Z",
     "shell.execute_reply": "2022-03-29T12:22:13.321566Z"
    },
    "id": "pyRQi7944wru"
   },
   "outputs": [
    {
     "data": {
      "image/png": "[encoded data removed]",
      "text/plain": [
       "<Figure size 1152x576 with 8 Axes>"
      ]
     },
     "metadata": {
      "needs_background": "light"
     },
     "output_type": "display_data"
    }
   ],
   "source": [
    "plot_attention_weights(sentence, translated_tokens,\n",
    "                       attention_weights['decoder_layer4_block2'][0])"
   ]
  },
  {
   "cell_type": "markdown",
   "metadata": {
    "id": "MZJirKUtikTt"
   },
   "source": [
    "The model does okay on unfamiliar words. Neither \"triceratops\" or \"encyclopedia\" are in the input dataset and the model almost learns to transliterate them, even without a shared vocabulary:"
   ]
  },
  {
   "cell_type": "code",
   "execution_count": 109,
   "metadata": {
    "execution": {
     "iopub.execute_input": "2022-03-29T12:22:13.326638Z",
     "iopub.status.busy": "2022-03-29T12:22:13.325952Z",
     "iopub.status.idle": "2022-03-29T12:22:17.412553Z",
     "shell.execute_reply": "2022-03-29T12:22:17.411542Z"
    },
    "id": "9cxysY7uh3jg"
   },
   "outputs": [
    {
     "name": "stdout",
     "output_type": "stream",
     "text": [
      "Input:         : Eu li sobre triceratops na enciclopédia.\n",
      "Prediction     : i ' ve been going to be the bropote and the scrape .\n",
      "Ground truth   : I read about triceratops in the encyclopedia.\n"
     ]
    },
    {
     "data": {
      "image/png": "[encoded data removed]",
      "text/plain": [
       "<Figure size 1152x576 with 8 Axes>"
      ]
     },
     "metadata": {
      "needs_background": "light"
     },
     "output_type": "display_data"
    }
   ],
   "source": [
    "sentence = 'Eu li sobre triceratops na enciclopédia.'\n",
    "ground_truth = 'I read about triceratops in the encyclopedia.'\n",
    "\n",
    "translated_text, translated_tokens, attention_weights = translator(\n",
    "    tf.constant(sentence))\n",
    "print_translation(sentence, translated_text, ground_truth)\n",
    "\n",
    "plot_attention_weights(sentence, translated_tokens,\n",
    "                       attention_weights['decoder_layer4_block2'][0])"
   ]
  },
  {
   "cell_type": "markdown",
   "metadata": {
    "id": "mOyiOetL2l60"
   },
   "source": [
    "## Export"
   ]
  },
  {
   "cell_type": "markdown",
   "metadata": {
    "id": "YTK3g2UL2oMc"
   },
   "source": [
    "That inference model is working, so next you'll export it as a `tf.saved_model`.\n",
    "\n",
    "To do that, wrap it in yet another `tf.Module` sub-class, this time with a `tf.function` on the `__call__` method:"
   ]
  },
  {
   "cell_type": "code",
   "execution_count": 110,
   "metadata": {
    "execution": {
     "iopub.execute_input": "2022-03-29T12:22:17.416920Z",
     "iopub.status.busy": "2022-03-29T12:22:17.416448Z",
     "iopub.status.idle": "2022-03-29T12:22:17.421006Z",
     "shell.execute_reply": "2022-03-29T12:22:17.420404Z"
    },
    "id": "GRmzkibLusQi"
   },
   "outputs": [
    {
     "ename": "IndentationError",
     "evalue": "expected an indented block (<ipython-input-110-c8c47edd17e8>, line 7)",
     "output_type": "error",
     "traceback": [
      "\u001b[0;36m  Input \u001b[0;32mIn [110]\u001b[0;36m\u001b[0m\n\u001b[0;31m    (result,\u001b[0m\n\u001b[0m    ^\u001b[0m\n\u001b[0;31mIndentationError\u001b[0m\u001b[0;31m:\u001b[0m expected an indented block\n"
     ]
    }
   ],
   "source": [
    "class ExportTranslator(tf.Module):\n",
    "    def __init__(self, translator):\n",
    "        self.translator = translator\n",
    "\n",
    "    @tf.function(input_signature=[tf.TensorSpec(shape=[], dtype=tf.string)])\n",
    "    def __call__(self, sentence):\n",
    "    (result,\n",
    "     tokens,\n",
    "     attention_weights) = self.translator(sentence, max_length=MAX_TOKENS)\n",
    "\n",
    "        return result"
   ]
  },
  {
   "cell_type": "markdown",
   "metadata": {
    "id": "O9f_pmEA4kql"
   },
   "source": [
    "In the above `tf.function` only the output sentence is returned. Thanks to the [non-strict execution](https://tensorflow.org/guide/intro_to_graphs) in `tf.function` any unnecessary values are never computed."
   ]
  },
  {
   "cell_type": "code",
   "execution_count": 111,
   "metadata": {
    "execution": {
     "iopub.execute_input": "2022-03-29T12:22:17.424015Z",
     "iopub.status.busy": "2022-03-29T12:22:17.423656Z",
     "iopub.status.idle": "2022-03-29T12:22:17.427108Z",
     "shell.execute_reply": "2022-03-29T12:22:17.426389Z"
    },
    "id": "EfomoJDP2n5n"
   },
   "outputs": [
    {
     "ename": "NameError",
     "evalue": "name 'ExportTranslator' is not defined",
     "output_type": "error",
     "traceback": [
      "\u001b[0;31m---------------------------------------------------------------------------\u001b[0m",
      "\u001b[0;31mNameError\u001b[0m                                 Traceback (most recent call last)",
      "Input \u001b[0;32mIn [111]\u001b[0m, in \u001b[0;36m<module>\u001b[0;34m\u001b[0m\n\u001b[0;32m----> 1\u001b[0m translator \u001b[38;5;241m=\u001b[39m \u001b[43mExportTranslator\u001b[49m(translator)\n",
      "\u001b[0;31mNameError\u001b[0m: name 'ExportTranslator' is not defined"
     ]
    }
   ],
   "source": [
    "translator = ExportTranslator(translator)"
   ]
  },
  {
   "cell_type": "markdown",
   "metadata": {
    "id": "SUfoCWPS9LuB"
   },
   "source": [
    "Since the model is decoding the predictions using `tf.argmax` the predictions are deterministic. The original model and one reloaded from its `SavedModel` should give identical predictions:"
   ]
  },
  {
   "cell_type": "code",
   "execution_count": 77,
   "metadata": {
    "execution": {
     "iopub.execute_input": "2022-03-29T12:22:17.430408Z",
     "iopub.status.busy": "2022-03-29T12:22:17.429808Z",
     "iopub.status.idle": "2022-03-29T12:22:23.297378Z",
     "shell.execute_reply": "2022-03-29T12:22:23.296561Z"
    },
    "id": "hAlqyycz3IYL"
   },
   "outputs": [
    {
     "data": {
      "text/plain": [
       "b'this is the first book i made .'"
      ]
     },
     "execution_count": 77,
     "metadata": {},
     "output_type": "execute_result"
    }
   ],
   "source": [
    "translator('este é o primeiro livro que eu fiz.').numpy()"
   ]
  },
  {
   "cell_type": "code",
   "execution_count": 78,
   "metadata": {
    "execution": {
     "iopub.execute_input": "2022-03-29T12:22:23.300804Z",
     "iopub.status.busy": "2022-03-29T12:22:23.300284Z",
     "iopub.status.idle": "2022-03-29T12:22:47.929412Z",
     "shell.execute_reply": "2022-03-29T12:22:47.928758Z"
    },
    "id": "ar3LO-Vuvlnv"
   },
   "outputs": [
    {
     "name": "stderr",
     "output_type": "stream",
     "text": [
      "2022-03-29 12:22:23.302544: W tensorflow/python/util/util.cc:368] Sets are not currently considered sequences, but this may change in the future, so consider avoiding using them.\n",
      "WARNING:absl:Found untraced functions such as embedding_4_layer_call_fn, embedding_4_layer_call_and_return_conditional_losses, dropout_37_layer_call_fn, dropout_37_layer_call_and_return_conditional_losses, embedding_5_layer_call_fn while saving (showing 5 of 224). These functions will not be directly callable after loading.\n"
     ]
    }
   ],
   "source": [
    "tf.saved_model.save(translator, export_dir='translator')"
   ]
  },
  {
   "cell_type": "code",
   "execution_count": 79,
   "metadata": {
    "execution": {
     "iopub.execute_input": "2022-03-29T12:22:47.939427Z",
     "iopub.status.busy": "2022-03-29T12:22:47.938877Z",
     "iopub.status.idle": "2022-03-29T12:22:57.004803Z",
     "shell.execute_reply": "2022-03-29T12:22:57.004188Z"
    },
    "id": "8WUflwyT1SEF"
   },
   "outputs": [],
   "source": [
    "reloaded = tf.saved_model.load('translator')"
   ]
  },
  {
   "cell_type": "code",
   "execution_count": 80,
   "metadata": {
    "execution": {
     "iopub.execute_input": "2022-03-29T12:22:57.008989Z",
     "iopub.status.busy": "2022-03-29T12:22:57.008419Z",
     "iopub.status.idle": "2022-03-29T12:22:59.358439Z",
     "shell.execute_reply": "2022-03-29T12:22:59.357888Z"
    },
    "id": "-sBTBWwR1XMr"
   },
   "outputs": [
    {
     "data": {
      "text/plain": [
       "b'this is the first book i made .'"
      ]
     },
     "execution_count": 80,
     "metadata": {},
     "output_type": "execute_result"
    }
   ],
   "source": [
    "reloaded('este é o primeiro livro que eu fiz.').numpy()"
   ]
  },
  {
   "cell_type": "markdown",
   "metadata": {
    "id": "RqQ1fIsLwkGE"
   },
   "source": [
    "## Summary\n",
    "\n",
    "In this tutorial you learned about:\n",
    "\n",
    "* positional encoding\n",
    "* multi-head attention\n",
    "* the importance of masking \n",
    "* and how to put it all together to build a transformer.\n",
    "\n",
    "This implementation tried to stay close to the implementation of the \n",
    "[original paper](https://arxiv.org/abs/1706.03762). If you want to practice there are many things you could try with it. For example: \n",
    "\n",
    "* Using a different dataset to train the transformer.\n",
    "* Create the \"Base Transformer\" or \"Transformer XL\" configurations from the original paper by changing the hyperparameters.\n",
    "* Use the layers defined here to create an implementation of [BERT](https://arxiv.org/abs/1810.04805).\n",
    "* Implement beam search to get better predictions."
   ]
  },
  {
   "cell_type": "code",
   "execution_count": null,
   "metadata": {},
   "outputs": [],
   "source": []
  }
 ],
 "metadata": {
  "accelerator": "GPU",
  "colab": {
   "collapsed_sections": [],
   "name": "transformer.ipynb",
   "provenance": []
  },
  "kernelspec": {
   "display_name": "Python 3",
   "language": "python",
   "name": "python3"
  },
  "language_info": {
   "codemirror_mode": {
    "name": "ipython",
    "version": 3
   },
   "file_extension": ".py",
   "mimetype": "text/x-python",
   "name": "python",
   "nbconvert_exporter": "python",
   "pygments_lexer": "ipython3",
   "version": "3.8.10"
  }
 },
 "nbformat": 4,
 "nbformat_minor": 1
}
